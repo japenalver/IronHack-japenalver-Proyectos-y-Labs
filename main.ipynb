{
  "cells": [
    {
      "cell_type": "markdown",
      "source": [
        "### Alumno: *Juan Alberto Peñalver Alvarez*"
      ],
      "metadata": {
        "id": "G7fUDxtAknTM"
      }
    },
    {
      "cell_type": "markdown",
      "metadata": {
        "id": "lCJRQFvTbDU5"
      },
      "source": [
        "# Lab | Numpy Deep Dive"
      ]
    },
    {
      "cell_type": "markdown",
      "metadata": {
        "id": "4ajn-YI3bDU6"
      },
      "source": [
        "### 1. Import the NUMPY package under the name np.\n"
      ]
    },
    {
      "cell_type": "code",
      "execution_count": 6,
      "metadata": {
        "id": "Dd9PEFrybDU7"
      },
      "outputs": [],
      "source": [
        "### [your code here]\n",
        "import numpy as np"
      ]
    },
    {
      "cell_type": "markdown",
      "metadata": {
        "id": "fY5fznORbDU8"
      },
      "source": [
        "\n",
        "\n",
        "### 2. Print the NUMPY version and the configuration.\n"
      ]
    },
    {
      "cell_type": "code",
      "execution_count": 7,
      "metadata": {
        "id": "0CELez8CbDU8",
        "colab": {
          "base_uri": "https://localhost:8080/"
        },
        "outputId": "c73f6b9e-9e40-47c0-b0e6-ab6752e979bc"
      },
      "outputs": [
        {
          "output_type": "stream",
          "name": "stdout",
          "text": [
            "2.0.2\n",
            "Build Dependencies:\n",
            "  blas:\n",
            "    detection method: pkgconfig\n",
            "    found: true\n",
            "    include directory: /opt/_internal/cpython-3.12.2/lib/python3.12/site-packages/scipy_openblas64/include\n",
            "    lib directory: /opt/_internal/cpython-3.12.2/lib/python3.12/site-packages/scipy_openblas64/lib\n",
            "    name: scipy-openblas\n",
            "    openblas configuration: OpenBLAS 0.3.27  USE64BITINT DYNAMIC_ARCH NO_AFFINITY\n",
            "      Zen MAX_THREADS=64\n",
            "    pc file directory: /project/.openblas\n",
            "    version: 0.3.27\n",
            "  lapack:\n",
            "    detection method: pkgconfig\n",
            "    found: true\n",
            "    include directory: /opt/_internal/cpython-3.12.2/lib/python3.12/site-packages/scipy_openblas64/include\n",
            "    lib directory: /opt/_internal/cpython-3.12.2/lib/python3.12/site-packages/scipy_openblas64/lib\n",
            "    name: scipy-openblas\n",
            "    openblas configuration: OpenBLAS 0.3.27  USE64BITINT DYNAMIC_ARCH NO_AFFINITY\n",
            "      Zen MAX_THREADS=64\n",
            "    pc file directory: /project/.openblas\n",
            "    version: 0.3.27\n",
            "Compilers:\n",
            "  c:\n",
            "    commands: cc\n",
            "    linker: ld.bfd\n",
            "    name: gcc\n",
            "    version: 10.2.1\n",
            "  c++:\n",
            "    commands: c++\n",
            "    linker: ld.bfd\n",
            "    name: gcc\n",
            "    version: 10.2.1\n",
            "  cython:\n",
            "    commands: cython\n",
            "    linker: cython\n",
            "    name: cython\n",
            "    version: 3.0.11\n",
            "Machine Information:\n",
            "  build:\n",
            "    cpu: x86_64\n",
            "    endian: little\n",
            "    family: x86_64\n",
            "    system: linux\n",
            "  host:\n",
            "    cpu: x86_64\n",
            "    endian: little\n",
            "    family: x86_64\n",
            "    system: linux\n",
            "Python Information:\n",
            "  path: /tmp/build-env-8744k94k/bin/python\n",
            "  version: '3.12'\n",
            "SIMD Extensions:\n",
            "  baseline:\n",
            "  - SSE\n",
            "  - SSE2\n",
            "  - SSE3\n",
            "  found:\n",
            "  - SSSE3\n",
            "  - SSE41\n",
            "  - POPCNT\n",
            "  - SSE42\n",
            "  - AVX\n",
            "  - F16C\n",
            "  - FMA3\n",
            "  - AVX2\n",
            "  not found:\n",
            "  - AVX512F\n",
            "  - AVX512CD\n",
            "  - AVX512_KNL\n",
            "  - AVX512_KNM\n",
            "  - AVX512_SKX\n",
            "  - AVX512_CLX\n",
            "  - AVX512_CNL\n",
            "  - AVX512_ICL\n",
            "\n",
            "None\n"
          ]
        }
      ],
      "source": [
        "### [your code here]\n",
        "print(np.__version__)\n",
        "print(np.show_config())"
      ]
    },
    {
      "cell_type": "markdown",
      "metadata": {
        "id": "02w8tWZbbDU8"
      },
      "source": [
        "### 3. Generate a 2x3x5 3-dimensional array with random values. Assign the array to variable \"a\"\n",
        "Challenge: there are at least three easy ways that use numpy to generate random arrays. How many ways can you find?\n"
      ]
    },
    {
      "cell_type": "code",
      "execution_count": 8,
      "metadata": {
        "id": "XDk4Cv2IbDU9",
        "colab": {
          "base_uri": "https://localhost:8080/"
        },
        "outputId": "7c39a5c7-fa12-4d15-9187-ab6648cfaf77"
      },
      "outputs": [
        {
          "output_type": "execute_result",
          "data": {
            "text/plain": [
              "array([[[0.05768547, 0.53334389, 0.54475591, 0.08800184, 0.868481  ],\n",
              "        [0.33054637, 0.25504765, 0.4866673 , 0.06431487, 0.53765246],\n",
              "        [0.43640325, 0.2507604 , 0.80626866, 0.24617294, 0.4536015 ]],\n",
              "\n",
              "       [[0.19289293, 0.05018815, 0.62298169, 0.62991681, 0.47137888],\n",
              "        [0.89917209, 0.73982449, 0.36520514, 0.16821774, 0.18912143],\n",
              "        [0.1339409 , 0.01550372, 0.1941336 , 0.00989333, 0.6127808 ]]])"
            ]
          },
          "metadata": {},
          "execution_count": 8
        }
      ],
      "source": [
        "### [your code here]\n",
        "a = np.random.random((2,3,5))\n",
        "a"
      ]
    },
    {
      "cell_type": "markdown",
      "metadata": {
        "id": "EgFtHjhdbDU9"
      },
      "source": [
        "\n",
        "### 4. Print a.\n"
      ]
    },
    {
      "cell_type": "code",
      "execution_count": 9,
      "metadata": {
        "id": "FP2tg9A7bDU9",
        "colab": {
          "base_uri": "https://localhost:8080/"
        },
        "outputId": "cc259f08-ea3b-474d-ef7a-f00703f758b6"
      },
      "outputs": [
        {
          "output_type": "stream",
          "name": "stdout",
          "text": [
            "[[[0.05768547 0.53334389 0.54475591 0.08800184 0.868481  ]\n",
            "  [0.33054637 0.25504765 0.4866673  0.06431487 0.53765246]\n",
            "  [0.43640325 0.2507604  0.80626866 0.24617294 0.4536015 ]]\n",
            "\n",
            " [[0.19289293 0.05018815 0.62298169 0.62991681 0.47137888]\n",
            "  [0.89917209 0.73982449 0.36520514 0.16821774 0.18912143]\n",
            "  [0.1339409  0.01550372 0.1941336  0.00989333 0.6127808 ]]]\n"
          ]
        }
      ],
      "source": [
        "### [your code here]\n",
        "print(a)"
      ]
    },
    {
      "cell_type": "markdown",
      "metadata": {
        "id": "G_vPuMf-bDU9"
      },
      "source": [
        "### 5. Create a 5x2x3 3-dimensional array with all values equaling 1.\n",
        "### Assign the array to variable \"b\"\n"
      ]
    },
    {
      "cell_type": "code",
      "execution_count": 10,
      "metadata": {
        "id": "B67eaB5-bDU-"
      },
      "outputs": [],
      "source": [
        "### [your code here]\n",
        "b = np.ones((5,2,3))"
      ]
    },
    {
      "cell_type": "markdown",
      "metadata": {
        "id": "N_9dwhT1bDU-"
      },
      "source": [
        "\n",
        "### 6. Print b.\n"
      ]
    },
    {
      "cell_type": "code",
      "execution_count": 11,
      "metadata": {
        "id": "IcNd8mHFbDU-",
        "colab": {
          "base_uri": "https://localhost:8080/"
        },
        "outputId": "a80d0544-589d-487b-bce1-6e533cf571cb"
      },
      "outputs": [
        {
          "output_type": "stream",
          "name": "stdout",
          "text": [
            "[[[1. 1. 1.]\n",
            "  [1. 1. 1.]]\n",
            "\n",
            " [[1. 1. 1.]\n",
            "  [1. 1. 1.]]\n",
            "\n",
            " [[1. 1. 1.]\n",
            "  [1. 1. 1.]]\n",
            "\n",
            " [[1. 1. 1.]\n",
            "  [1. 1. 1.]]\n",
            "\n",
            " [[1. 1. 1.]\n",
            "  [1. 1. 1.]]]\n"
          ]
        }
      ],
      "source": [
        "### [your code here]\n",
        "print(b)"
      ]
    },
    {
      "cell_type": "markdown",
      "metadata": {
        "id": "taVY0fO2bDU-"
      },
      "source": [
        "\n",
        "### 7. Do a and b have the same size? How do you prove that in Python code?\n"
      ]
    },
    {
      "cell_type": "code",
      "execution_count": 12,
      "metadata": {
        "id": "vJhHWerXbDU-",
        "colab": {
          "base_uri": "https://localhost:8080/"
        },
        "outputId": "6c29c3d0-9b6c-4d6d-d401-e7eaf6660d4f"
      },
      "outputs": [
        {
          "output_type": "stream",
          "name": "stdout",
          "text": [
            "a and b have the same size\n"
          ]
        }
      ],
      "source": [
        "### [your code here]\n",
        "if a.size == b.size:\n",
        "  print(\"a and b have the same size\")\n",
        "else:\n",
        "  print(\"a and b have different sizes\")"
      ]
    },
    {
      "cell_type": "markdown",
      "metadata": {
        "id": "GlKu9qBWbDU-"
      },
      "source": [
        "\n",
        "### 8. Are you able to add a and b? Why or why not?\n"
      ]
    },
    {
      "cell_type": "code",
      "execution_count": 13,
      "metadata": {
        "id": "Byec-kMabDU-",
        "colab": {
          "base_uri": "https://localhost:8080/"
        },
        "outputId": "6413e32e-b95c-49ee-d028-2b581b4528d1"
      },
      "outputs": [
        {
          "output_type": "stream",
          "name": "stdout",
          "text": [
            "operands could not be broadcast together with shapes (2,3,5) (5,2,3) \n",
            "\n",
            "No se pueden sumar porque tienen diferentes dimensiones\n",
            "a.shape =  (2, 3, 5)\n",
            "b.shape =  (5, 2, 3)\n",
            "Las dimensiones están en distinto orden.\n",
            "a →  [ 2 , 3 , 5 ]\n",
            "b →  [ 5 , 2 , 3 ]\n",
            " Ahora, cuando NumPy intenta sumar: \n",
            "  * Compara de derecha a izquierda. \n",
            "  * Cada par de dimensiones debe ser iguales o una debe ser 1. \n"
          ]
        }
      ],
      "source": [
        "### [your code here]\n",
        "try:\n",
        "  c = a + b\n",
        "except ValueError as e:\n",
        "  print(e)\n",
        "\n",
        "print()\n",
        "print(\"No se pueden sumar porque tienen diferentes dimensiones\")\n",
        "\n",
        "print(\"a.shape = \", a.shape)\n",
        "print(\"b.shape = \", b.shape)\n",
        "\n",
        "print(\"Las dimensiones están en distinto orden.\")\n",
        "\n",
        "print(\"a →  [ 2 , 3 , 5 ]\")\n",
        "print(\"b →  [ 5 , 2 , 3 ]\")\n",
        "\n",
        "print(\" Ahora, cuando NumPy intenta sumar: \")\n",
        "print(\"  * Compara de derecha a izquierda. \")\n",
        "print(\"  * Cada par de dimensiones debe ser iguales o una debe ser 1. \")\n"
      ]
    },
    {
      "cell_type": "markdown",
      "metadata": {
        "id": "-84FOZllbDU-"
      },
      "source": [
        "\n",
        "\n",
        "### 9. Transpose b so that it has the same structure of a (i.e. become a 2x3x5 array). Assign the transposed array to varialbe \"c\".\n"
      ]
    },
    {
      "cell_type": "code",
      "execution_count": 14,
      "metadata": {
        "id": "GrQq6SGEbDU-",
        "colab": {
          "base_uri": "https://localhost:8080/"
        },
        "outputId": "cc1a7cb2-0556-4b9a-8be4-0404404dcccf"
      },
      "outputs": [
        {
          "output_type": "execute_result",
          "data": {
            "text/plain": [
              "array([[[1., 1., 1., 1., 1.],\n",
              "        [1., 1., 1., 1., 1.],\n",
              "        [1., 1., 1., 1., 1.]],\n",
              "\n",
              "       [[1., 1., 1., 1., 1.],\n",
              "        [1., 1., 1., 1., 1.],\n",
              "        [1., 1., 1., 1., 1.]]])"
            ]
          },
          "metadata": {},
          "execution_count": 14
        }
      ],
      "source": [
        "### [your code here]\n",
        "c = b.reshape(2,3,5)\n",
        "c"
      ]
    },
    {
      "cell_type": "markdown",
      "metadata": {
        "id": "tVKhOq1JbDU-"
      },
      "source": [
        "\n",
        "### 10. Try to add a and c. Now it should work. Assign the sum to variable \"d\". But why does it work now?\n"
      ]
    },
    {
      "cell_type": "code",
      "execution_count": 15,
      "metadata": {
        "id": "R_N_6hCSbDU-",
        "colab": {
          "base_uri": "https://localhost:8080/"
        },
        "outputId": "f70702b2-c606-4b32-844e-e9eb84803ed8"
      },
      "outputs": [
        {
          "output_type": "execute_result",
          "data": {
            "text/plain": [
              "array([[[1.05768547, 1.53334389, 1.54475591, 1.08800184, 1.868481  ],\n",
              "        [1.33054637, 1.25504765, 1.4866673 , 1.06431487, 1.53765246],\n",
              "        [1.43640325, 1.2507604 , 1.80626866, 1.24617294, 1.4536015 ]],\n",
              "\n",
              "       [[1.19289293, 1.05018815, 1.62298169, 1.62991681, 1.47137888],\n",
              "        [1.89917209, 1.73982449, 1.36520514, 1.16821774, 1.18912143],\n",
              "        [1.1339409 , 1.01550372, 1.1941336 , 1.00989333, 1.6127808 ]]])"
            ]
          },
          "metadata": {},
          "execution_count": 15
        }
      ],
      "source": [
        "### [your code here]\n",
        "d = a + c\n",
        "d"
      ]
    },
    {
      "cell_type": "markdown",
      "metadata": {
        "id": "bMpVasBDbDU_"
      },
      "source": [
        "\n",
        "### 11. Print a and d. Notice the difference and relation of the two array in terms of the values? Explain.\n"
      ]
    },
    {
      "cell_type": "code",
      "execution_count": 16,
      "metadata": {
        "id": "B-vn5_u6bDU_",
        "colab": {
          "base_uri": "https://localhost:8080/"
        },
        "outputId": "66529e7f-8be0-4bf8-ad66-07c8075e9d82"
      },
      "outputs": [
        {
          "output_type": "stream",
          "name": "stdout",
          "text": [
            "a =  [[[0.05768547 0.53334389 0.54475591 0.08800184 0.868481  ]\n",
            "  [0.33054637 0.25504765 0.4866673  0.06431487 0.53765246]\n",
            "  [0.43640325 0.2507604  0.80626866 0.24617294 0.4536015 ]]\n",
            "\n",
            " [[0.19289293 0.05018815 0.62298169 0.62991681 0.47137888]\n",
            "  [0.89917209 0.73982449 0.36520514 0.16821774 0.18912143]\n",
            "  [0.1339409  0.01550372 0.1941336  0.00989333 0.6127808 ]]]\n",
            "\n",
            "d =  [[[1.05768547 1.53334389 1.54475591 1.08800184 1.868481  ]\n",
            "  [1.33054637 1.25504765 1.4866673  1.06431487 1.53765246]\n",
            "  [1.43640325 1.2507604  1.80626866 1.24617294 1.4536015 ]]\n",
            "\n",
            " [[1.19289293 1.05018815 1.62298169 1.62991681 1.47137888]\n",
            "  [1.89917209 1.73982449 1.36520514 1.16821774 1.18912143]\n",
            "  [1.1339409  1.01550372 1.1941336  1.00989333 1.6127808 ]]]\n",
            "\n",
            "Los valores entre cada uno de los valores de a y d es 1, \n",
            "ya que, d = a + c, y c está formada solamente por 1's.\n"
          ]
        }
      ],
      "source": [
        "### [your code here]\n",
        "print(\"a = \", a)\n",
        "print()\n",
        "print(\"d = \", d)\n",
        "print()\n",
        "print(\"Los valores entre cada uno de los valores de a y d es 1, \")\n",
        "print(\"ya que, d = a + c, y c está formada solamente por 1's.\")"
      ]
    },
    {
      "cell_type": "markdown",
      "metadata": {
        "id": "Y7Jyc3HjbDU_"
      },
      "source": [
        "\n",
        "### 12. Multiply a and c. Assign the result to e.\n"
      ]
    },
    {
      "cell_type": "code",
      "execution_count": 17,
      "metadata": {
        "id": "GORZi7PObDU_",
        "colab": {
          "base_uri": "https://localhost:8080/"
        },
        "outputId": "64b25a1c-1634-479a-d294-ea215c9b9e06"
      },
      "outputs": [
        {
          "output_type": "execute_result",
          "data": {
            "text/plain": [
              "array([[[0.05768547, 0.53334389, 0.54475591, 0.08800184, 0.868481  ],\n",
              "        [0.33054637, 0.25504765, 0.4866673 , 0.06431487, 0.53765246],\n",
              "        [0.43640325, 0.2507604 , 0.80626866, 0.24617294, 0.4536015 ]],\n",
              "\n",
              "       [[0.19289293, 0.05018815, 0.62298169, 0.62991681, 0.47137888],\n",
              "        [0.89917209, 0.73982449, 0.36520514, 0.16821774, 0.18912143],\n",
              "        [0.1339409 , 0.01550372, 0.1941336 , 0.00989333, 0.6127808 ]]])"
            ]
          },
          "metadata": {},
          "execution_count": 17
        }
      ],
      "source": [
        "### [your code here]\n",
        "e = a * c\n",
        "e"
      ]
    },
    {
      "cell_type": "markdown",
      "metadata": {
        "id": "GPs7YKOCbDU_"
      },
      "source": [
        "\n",
        "\n",
        "### 13. Does e equal to a? Why or why not?\n"
      ]
    },
    {
      "cell_type": "code",
      "execution_count": 18,
      "metadata": {
        "id": "Ri1M-aIJbDU_",
        "colab": {
          "base_uri": "https://localhost:8080/"
        },
        "outputId": "c184ab25-3a93-4e41-e0f1-669237dabfb5"
      },
      "outputs": [
        {
          "output_type": "stream",
          "name": "stdout",
          "text": [
            "[[[ True  True  True  True  True]\n",
            "  [ True  True  True  True  True]\n",
            "  [ True  True  True  True  True]]\n",
            "\n",
            " [[ True  True  True  True  True]\n",
            "  [ True  True  True  True  True]\n",
            "  [ True  True  True  True  True]]]\n",
            "\n",
            "Sí, porque cada uno de sus valores es True, es decir, son iguales comparandolos uno a uno.\n"
          ]
        }
      ],
      "source": [
        "### [your code here]\n",
        "print(e == a)\n",
        "print()\n",
        "print(\"Sí, porque cada uno de sus valores es True, es decir, son iguales comparandolos uno a uno.\")"
      ]
    },
    {
      "cell_type": "markdown",
      "metadata": {
        "id": "jk6Y4isjbDU_"
      },
      "source": [
        "\n",
        "\n",
        "### 14. Identify the max, min, and mean values in d. Assign those values to variables \"d_max\", \"d_min\", and \"d_mean\"\n"
      ]
    },
    {
      "cell_type": "code",
      "execution_count": 19,
      "metadata": {
        "id": "_jz96V01bDU_",
        "colab": {
          "base_uri": "https://localhost:8080/"
        },
        "outputId": "06bd142e-6f20-419c-b82d-4791fb119399"
      },
      "outputs": [
        {
          "output_type": "stream",
          "name": "stdout",
          "text": [
            "d_max =  1.8991720899658753\n",
            "d_min =  1.0098933341751475\n",
            "d_mean =  1.3751618401140209\n"
          ]
        }
      ],
      "source": [
        "### [your code here]\n",
        "d_max = d.max()\n",
        "d_min = d.min()\n",
        "d_mean = d.mean()\n",
        "\n",
        "print(\"d_max = \", d_max)\n",
        "print(\"d_min = \", d_min)\n",
        "print(\"d_mean = \", d_mean)\n"
      ]
    },
    {
      "cell_type": "markdown",
      "metadata": {
        "id": "VFRftAXtbDU_"
      },
      "source": [
        "\n",
        "### 15. Now we want to label the values in d. First create an empty array \"f\" with the same shape (i.e. 2x3x5) as d using `np.empty`.\n"
      ]
    },
    {
      "cell_type": "code",
      "execution_count": 23,
      "metadata": {
        "id": "ep3dtdlgbDU_",
        "colab": {
          "base_uri": "https://localhost:8080/"
        },
        "outputId": "e2b60441-ab5f-431c-aae7-2a6bf7260877"
      },
      "outputs": [
        {
          "output_type": "stream",
          "name": "stdout",
          "text": [
            "Shape de f: (2, 3, 5)\n",
            "f (contenido inicial):\n",
            "[[[0.05768547 0.53334389 0.54475591 0.08800184 0.868481  ]\n",
            "  [0.33054637 0.25504765 0.4866673  0.06431487 0.53765246]\n",
            "  [0.43640325 0.2507604  0.80626866 0.24617294 0.4536015 ]]\n",
            "\n",
            " [[0.19289293 0.05018815 0.62298169 0.62991681 0.47137888]\n",
            "  [0.89917209 0.73982449 0.36520514 0.16821774 0.18912143]\n",
            "  [0.1339409  0.01550372 0.1941336  0.00989333 0.6127808 ]]]\n"
          ]
        }
      ],
      "source": [
        "### [your code here]\n",
        "f = np.empty(d.shape)\n",
        "\n",
        "print(\"Shape de f:\", f.shape)\n",
        "print(\"f (contenido inicial):\")\n",
        "print(f)\n"
      ]
    },
    {
      "cell_type": "markdown",
      "metadata": {
        "id": "F4X8ZATvbDU_"
      },
      "source": [
        "\n",
        "\n",
        "\n",
        "### 16. Populate the values in f. For each value in d, if it's larger than d_min but smaller than d_mean, assign 25 to the corresponding value in f.\n",
        "If a value in d is larger than d_mean but smaller than d_max, assign 75 to the corresponding value in f.\n",
        "If a value equals to d_mean, assign 50 to the corresponding value in f.\n",
        "Assign 0 to the corresponding value(s) in f for d_min in d.\n",
        "Assign 100 to the corresponding value(s) in f for d_max in d.\n",
        "In the end, f should have only the following values: 0, 25, 50, 75, and 100.\n",
        "Note: you don't have to use Numpy in this question.\n",
        "\n"
      ]
    },
    {
      "cell_type": "code",
      "execution_count": null,
      "metadata": {
        "id": "85XlJ8_JbDU_"
      },
      "outputs": [],
      "source": [
        "### [your code here]\n",
        "f = np.empty(d.shape)\n",
        "print(f)\n",
        "\n",
        "d_min = d.min()\n",
        "d_mean = d.mean()\n",
        "d_max = d.max()\n",
        "\n",
        "print(\"d_min = \", d_min)\n",
        "print(\"d_mean = \", d_mean)\n",
        "print(\"d_max = \", d_max)\n",
        "\n",
        "for i in range(d.shape[0]):       # primer eje\n",
        "    for j in range(d.shape[1]):   # segundo eje\n",
        "        for k in range(d.shape[2]):  # tercer eje\n",
        "            value = d[i, j, k]\n",
        "\n",
        "            if value == d_min:\n",
        "                f[i, j, k] = 0\n",
        "            elif value == d_max:\n",
        "                f[i, j, k] = 100\n",
        "            elif value == d_mean:\n",
        "                f[i, j, k] = 50\n",
        "            elif d_min < value < d_mean:\n",
        "                f[i, j, k] = 25\n",
        "            elif d_mean < value < d_max:\n",
        "                f[i, j, k] = 75\n",
        "\n",
        "print(np.unique(f))\n",
        "print()\n",
        "print(f)\n"
      ]
    },
    {
      "cell_type": "markdown",
      "metadata": {
        "id": "jUsBMbj6bDU_"
      },
      "source": [
        "\n",
        "\n",
        "\n",
        "\n",
        "### 17. Print d and f. Do you have your expected f?\n",
        "For instance, if your d is:\n",
        "array([[[1.85836099, 1.67064465, 1.62576044, 1.40243961, 1.88454931],\n",
        "        [1.75354326, 1.69403643, 1.36729252, 1.61415071, 1.12104981],\n",
        "        [1.72201435, 1.1862918 , 1.87078449, 1.7726778 , 1.88180042]],\n",
        "\n",
        "       [[1.44747908, 1.31673383, 1.02000951, 1.52218947, 1.97066381],\n",
        "        [1.79129243, 1.74983003, 1.96028037, 1.85166831, 1.65450881],\n",
        "        [1.18068344, 1.9587381 , 1.00656599, 1.93402165, 1.73514584]]])\n",
        "\n",
        "Your f should be:\n",
        "array([[[ 75.,  75.,  75.,  25.,  75.],\n",
        "        [ 75.,  75.,  25.,  25.,  25.],\n",
        "        [ 75.,  25.,  75.,  75.,  75.]],\n",
        "\n",
        "       [[ 25.,  25.,  25.,  25., 100.],\n",
        "        [ 75.,  75.,  75.,  75.,  75.],\n",
        "        [ 25.,  75.,   0.,  75.,  75.]]])\n",
        "\n"
      ]
    },
    {
      "cell_type": "code",
      "execution_count": 36,
      "metadata": {
        "id": "4lNflKkBbDU_",
        "colab": {
          "base_uri": "https://localhost:8080/"
        },
        "outputId": "60a5eeac-ccb3-490e-ad92-1ab29757f0e4"
      },
      "outputs": [
        {
          "output_type": "stream",
          "name": "stdout",
          "text": [
            "d =\n",
            "[[[1.05768547 1.53334389 1.54475591 1.08800184 1.868481  ]\n",
            "  [1.33054637 1.25504765 1.4866673  1.06431487 1.53765246]\n",
            "  [1.43640325 1.2507604  1.80626866 1.24617294 1.4536015 ]]\n",
            "\n",
            " [[1.19289293 1.05018815 1.62298169 1.62991681 1.47137888]\n",
            "  [1.89917209 1.73982449 1.36520514 1.16821774 1.18912143]\n",
            "  [1.1339409  1.01550372 1.1941336  1.00989333 1.6127808 ]]]\n",
            "\n",
            "Expected f =\n",
            "[[[ 25.  75.  75.  25.  75.]\n",
            "  [ 25.  25.  75.  25.  75.]\n",
            "  [ 75.  25.  75.  25.  75.]]\n",
            "\n",
            " [[ 25.  25.  75.  75.  75.]\n",
            "  [100.  75.  25.  25.  25.]\n",
            "  [ 25.  25.  25.   0.  75.]]]\n"
          ]
        }
      ],
      "source": [
        "### [your code here]\n",
        "f = np.empty(d.shape)\n",
        "\n",
        "d_min = d.min()\n",
        "d_mean = d.mean()\n",
        "d_max = d.max()\n",
        "\n",
        "for i in range(d.shape[0]):\n",
        "    for j in range(d.shape[1]):\n",
        "        for k in range(d.shape[2]):\n",
        "            value = d[i, j, k]\n",
        "            if value == d_min:\n",
        "                f[i, j, k] = 0\n",
        "            elif value == d_max:\n",
        "                f[i, j, k] = 100\n",
        "            elif value == d_mean:\n",
        "                f[i, j, k] = 50\n",
        "            elif d_min < value < d_mean:\n",
        "                f[i, j, k] = 25\n",
        "            else:\n",
        "                f[i, j, k] = 75\n",
        "\n",
        "print(\"d =\")\n",
        "print(d)\n",
        "print(\"\\nExpected f =\")\n",
        "print(f)\n"
      ]
    },
    {
      "cell_type": "markdown",
      "metadata": {
        "id": "cZtaQuOfbDU_"
      },
      "source": [
        "### 18. Bonus question: instead of using numbers (i.e. 0, 25, 50, 75, and 100), how to use string values\n",
        "(\"A\", \"B\", \"C\", \"D\", and \"E\") to label the array elements? You are expecting the result to be:\n",
        "array([[[ 'D',  'D',  'D',  'B',  'D'],\n",
        "        [ 'D',  'D',  'B',  'B',  'B'],\n",
        "        [ 'D',  'B',  'D',  'D',  'D']],\n",
        "\n",
        "       [[ 'B',  'B',  'B',  'B',  'E'],\n",
        "        [ 'D',  'D',  'D',  'D',  'D'],\n",
        "        [ 'B',  'D',   'A',  'D', 'D']]])\n",
        "Again, you don't need Numpy in this question."
      ]
    },
    {
      "cell_type": "code",
      "execution_count": 38,
      "metadata": {
        "id": "YNey5sTObDVA",
        "colab": {
          "base_uri": "https://localhost:8080/"
        },
        "outputId": "9d35b495-d40d-4316-9554-4eb812c0262c"
      },
      "outputs": [
        {
          "output_type": "stream",
          "name": "stdout",
          "text": [
            "d =\n",
            "[[[1.05768547 1.53334389 1.54475591 1.08800184 1.868481  ]\n",
            "  [1.33054637 1.25504765 1.4866673  1.06431487 1.53765246]\n",
            "  [1.43640325 1.2507604  1.80626866 1.24617294 1.4536015 ]]\n",
            "\n",
            " [[1.19289293 1.05018815 1.62298169 1.62991681 1.47137888]\n",
            "  [1.89917209 1.73982449 1.36520514 1.16821774 1.18912143]\n",
            "  [1.1339409  1.01550372 1.1941336  1.00989333 1.6127808 ]]]\n",
            "\n",
            "Expected g =\n",
            "[[['B' 'D' 'D' 'B' 'D']\n",
            "  ['B' 'B' 'D' 'B' 'D']\n",
            "  ['D' 'B' 'D' 'B' 'D']]\n",
            "\n",
            " [['B' 'B' 'D' 'D' 'D']\n",
            "  ['E' 'D' 'B' 'B' 'B']\n",
            "  ['B' 'B' 'B' 'A' 'D']]]\n"
          ]
        }
      ],
      "source": [
        "### [your code here]\n",
        "g = np.empty(d.shape, dtype=str)  # crea un array vacío de strings\n",
        "\n",
        "d_min = d.min()\n",
        "d_mean = d.mean()\n",
        "d_max = d.max()\n",
        "\n",
        "for i in range(d.shape[0]):\n",
        "    for j in range(d.shape[1]):\n",
        "        for k in range(d.shape[2]):\n",
        "            value = d[i, j, k]\n",
        "            if value == d_min:\n",
        "                g[i, j, k] = \"A\"\n",
        "            elif value == d_max:\n",
        "                g[i, j, k] = \"E\"\n",
        "            elif value == d_mean:\n",
        "                g[i, j, k] = \"C\"\n",
        "            elif d_min < value < d_mean:\n",
        "                g[i, j, k] = \"B\"\n",
        "            else:  # d_mean < value < d_max\n",
        "                g[i, j, k] = \"D\"\n",
        "\n",
        "print(\"d =\")\n",
        "print(d)\n",
        "print(\"\\nExpected g =\")\n",
        "print(g)"
      ]
    }
  ],
  "metadata": {
    "kernelspec": {
      "display_name": "Python 3",
      "language": "python",
      "name": "python3"
    },
    "language_info": {
      "codemirror_mode": {
        "name": "ipython",
        "version": 3
      },
      "file_extension": ".py",
      "mimetype": "text/x-python",
      "name": "python",
      "nbconvert_exporter": "python",
      "pygments_lexer": "ipython3",
      "version": "3.8.0"
    },
    "colab": {
      "provenance": []
    }
  },
  "nbformat": 4,
  "nbformat_minor": 0
}