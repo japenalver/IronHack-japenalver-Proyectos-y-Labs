{
  "cells": [
    {
      "cell_type": "markdown",
      "source": [
        "### Alumno: *Juan Alberto Peñalver Alvarez*"
      ],
      "metadata": {
        "id": "oc0OEWb7KcQZ"
      }
    },
    {
      "cell_type": "markdown",
      "metadata": {
        "id": "aJeeiBfnaRFd"
      },
      "source": [
        "# List Comprehensions\n",
        "\n",
        "Complete the following set of exercises to solidify your knowledge of list comprehensions."
      ]
    },
    {
      "cell_type": "code",
      "execution_count": 1,
      "metadata": {
        "id": "c9qOy5LvaRFe"
      },
      "outputs": [],
      "source": [
        "import os"
      ]
    },
    {
      "cell_type": "markdown",
      "metadata": {
        "id": "WEedlovVaRFf"
      },
      "source": [
        "#### 1. Use a list comprehension to create and print a list of consecutive integers starting with 1 and ending with 50."
      ]
    },
    {
      "cell_type": "code",
      "execution_count": 2,
      "metadata": {
        "colab": {
          "base_uri": "https://localhost:8080/"
        },
        "id": "Erdp1dvdaRFf",
        "outputId": "c6712eec-3972-4617-d256-1295d2962cac"
      },
      "outputs": [
        {
          "output_type": "stream",
          "name": "stdout",
          "text": [
            "[1, 2, 3, 4, 5, 6, 7, 8, 9, 10, 11, 12, 13, 14, 15, 16, 17, 18, 19, 20, 21, 22, 23, 24, 25, 26, 27, 28, 29, 30, 31, 32, 33, 34, 35, 36, 37, 38, 39, 40, 41, 42, 43, 44, 45, 46, 47, 48, 49, 50]\n"
          ]
        }
      ],
      "source": [
        "#your code here\n",
        "lista_enteros = [ x for x in range(1,51) ]\n",
        "print(lista_enteros)"
      ]
    },
    {
      "cell_type": "markdown",
      "metadata": {
        "id": "UH6LB-tbaRFf"
      },
      "source": [
        "#### 2. Use a list comprehension to create and print a list of even numbers starting with 2 and ending with 200."
      ]
    },
    {
      "cell_type": "code",
      "execution_count": 3,
      "metadata": {
        "colab": {
          "base_uri": "https://localhost:8080/"
        },
        "id": "yUVvTrYSaRFg",
        "outputId": "2fa042eb-d1b7-4edb-c6c3-16ebdfba82d7"
      },
      "outputs": [
        {
          "output_type": "stream",
          "name": "stdout",
          "text": [
            "[2, 4, 6, 8, 10, 12, 14, 16, 18, 20, 22, 24, 26, 28, 30, 32, 34, 36, 38, 40, 42, 44, 46, 48, 50, 52, 54, 56, 58, 60, 62, 64, 66, 68, 70, 72, 74, 76, 78, 80, 82, 84, 86, 88, 90, 92, 94, 96, 98, 100, 102, 104, 106, 108, 110, 112, 114, 116, 118, 120, 122, 124, 126, 128, 130, 132, 134, 136, 138, 140, 142, 144, 146, 148, 150, 152, 154, 156, 158, 160, 162, 164, 166, 168, 170, 172, 174, 176, 178, 180, 182, 184, 186, 188, 190, 192, 194, 196, 198, 200]\n"
          ]
        }
      ],
      "source": [
        "#your code here\n",
        "lista_enteros_pares = [ x for x in range(2,201) if x % 2 == 0 ]\n",
        "print(lista_enteros_pares)"
      ]
    },
    {
      "cell_type": "markdown",
      "metadata": {
        "id": "1lrzjbSzaRFg"
      },
      "source": [
        "#### 3. Use a list comprehension to create and print a list containing all elements of the 10 x 4 array below."
      ]
    },
    {
      "cell_type": "code",
      "execution_count": 4,
      "metadata": {
        "id": "E9QDrwPdaRFg"
      },
      "outputs": [],
      "source": [
        "a = [[0.84062117, 0.48006452, 0.7876326 , 0.77109654],\n",
        "       [0.44409793, 0.09014516, 0.81835917, 0.87645456],\n",
        "       [0.7066597 , 0.09610873, 0.41247947, 0.57433389],\n",
        "       [0.29960807, 0.42315023, 0.34452557, 0.4751035 ],\n",
        "       [0.17003563, 0.46843998, 0.92796258, 0.69814654],\n",
        "       [0.41290051, 0.19561071, 0.16284783, 0.97016248],\n",
        "       [0.71725408, 0.87702738, 0.31244595, 0.76615487],\n",
        "       [0.20754036, 0.57871812, 0.07214068, 0.40356048],\n",
        "       [0.12149553, 0.53222417, 0.9976855 , 0.12536346],\n",
        "       [0.80930099, 0.50962849, 0.94555126, 0.33364763]];"
      ]
    },
    {
      "cell_type": "code",
      "execution_count": 5,
      "metadata": {
        "id": "LBYcaCr_aRFg",
        "colab": {
          "base_uri": "https://localhost:8080/"
        },
        "outputId": "c0ba7d28-68eb-496a-b738-3c1304d27fd1"
      },
      "outputs": [
        {
          "output_type": "stream",
          "name": "stdout",
          "text": [
            "[0.84062117, 0.48006452, 0.7876326, 0.77109654, 0.44409793, 0.09014516, 0.81835917, 0.87645456, 0.7066597, 0.09610873, 0.41247947, 0.57433389, 0.29960807, 0.42315023, 0.34452557, 0.4751035, 0.17003563, 0.46843998, 0.92796258, 0.69814654, 0.41290051, 0.19561071, 0.16284783, 0.97016248, 0.71725408, 0.87702738, 0.31244595, 0.76615487, 0.20754036, 0.57871812, 0.07214068, 0.40356048, 0.12149553, 0.53222417, 0.9976855, 0.12536346, 0.80930099, 0.50962849, 0.94555126, 0.33364763]\n",
            "40\n"
          ]
        }
      ],
      "source": [
        "#your code here\n",
        "a2 = [ x for i in a for x in i]\n",
        "print(a2)\n",
        "print(len(a2))"
      ]
    },
    {
      "cell_type": "markdown",
      "metadata": {
        "id": "p-s1jvZlaRFg"
      },
      "source": [
        "#### 4. Add a condition to the list comprehension above so that only values greater than or equal to 0.5 are printed."
      ]
    },
    {
      "cell_type": "code",
      "execution_count": 6,
      "metadata": {
        "id": "RCNtJOINaRFh",
        "colab": {
          "base_uri": "https://localhost:8080/"
        },
        "outputId": "0ffe4fc1-ecc5-41c7-f036-75e2008a3819"
      },
      "outputs": [
        {
          "output_type": "stream",
          "name": "stdout",
          "text": [
            "[0.84062117, 0.7876326, 0.77109654, 0.81835917, 0.87645456, 0.7066597, 0.57433389, 0.92796258, 0.69814654, 0.97016248, 0.71725408, 0.87702738, 0.76615487, 0.57871812, 0.53222417, 0.9976855, 0.80930099, 0.50962849, 0.94555126]\n",
            "19\n"
          ]
        }
      ],
      "source": [
        "#your code here\n",
        "a3 = [ x for i in a for x in i if x >= 0.5 ]\n",
        "print(a3)\n",
        "print(len(a3))"
      ]
    },
    {
      "cell_type": "markdown",
      "metadata": {
        "id": "UIXG66FeaRFh"
      },
      "source": [
        "#### 5. Use a list comprehension to create and print a list containing all elements of the 5 x 2 x 3 array below."
      ]
    },
    {
      "cell_type": "code",
      "execution_count": 7,
      "metadata": {
        "id": "p3kfIIbkaRFh"
      },
      "outputs": [],
      "source": [
        "b = [[[0.55867166, 0.06210792, 0.08147297],\n",
        "        [0.82579068, 0.91512478, 0.06833034]],\n",
        "\n",
        "       [[0.05440634, 0.65857693, 0.30296619],\n",
        "        [0.06769833, 0.96031863, 0.51293743]],\n",
        "\n",
        "       [[0.09143215, 0.71893382, 0.45850679],\n",
        "        [0.58256464, 0.59005654, 0.56266457]],\n",
        "\n",
        "       [[0.71600294, 0.87392666, 0.11434044],\n",
        "        [0.8694668 , 0.65669313, 0.10708681]],\n",
        "\n",
        "       [[0.07529684, 0.46470767, 0.47984544],\n",
        "        [0.65368638, 0.14901286, 0.23760688]]];"
      ]
    },
    {
      "cell_type": "code",
      "execution_count": 8,
      "metadata": {
        "id": "xPZJoBUEaRFh",
        "colab": {
          "base_uri": "https://localhost:8080/"
        },
        "outputId": "3fae0cf2-56e4-4450-a81d-4ad083afcbc1"
      },
      "outputs": [
        {
          "output_type": "stream",
          "name": "stdout",
          "text": [
            "[0.55867166, 0.06210792, 0.08147297, 0.82579068, 0.91512478, 0.06833034, 0.05440634, 0.65857693, 0.30296619, 0.06769833, 0.96031863, 0.51293743, 0.09143215, 0.71893382, 0.45850679, 0.58256464, 0.59005654, 0.56266457, 0.71600294, 0.87392666, 0.11434044, 0.8694668, 0.65669313, 0.10708681, 0.07529684, 0.46470767, 0.47984544, 0.65368638, 0.14901286, 0.23760688]\n",
            "30\n"
          ]
        }
      ],
      "source": [
        "#your code here\n",
        "b1 = [ x for i in b for j in i for x in j ]\n",
        "print(b1)\n",
        "print(len(b1))"
      ]
    },
    {
      "cell_type": "markdown",
      "metadata": {
        "id": "o3c6ZRfnaRFh"
      },
      "source": [
        "#### 6. Add a condition to the list comprehension above so that the last value in each subarray is printed, but only if it is less than or equal to 0.5."
      ]
    },
    {
      "cell_type": "code",
      "execution_count": 9,
      "metadata": {
        "id": "Xz1l75yYaRFh",
        "colab": {
          "base_uri": "https://localhost:8080/"
        },
        "outputId": "7ad0c333-ab75-4c76-ce61-8a73f3951610"
      },
      "outputs": [
        {
          "output_type": "stream",
          "name": "stdout",
          "text": [
            "[0.55867166, 0.82579068, 0.91512478, 0.65857693, 0.96031863, 0.51293743, 0.71893382, 0.58256464, 0.59005654, 0.56266457, 0.71600294, 0.87392666, 0.8694668, 0.65669313, 0.65368638]\n",
            "15\n"
          ]
        }
      ],
      "source": [
        "#your code here\n",
        "b2 = [ x for i in b for j in i for x in j if x >= 0.5 ]\n",
        "print(b2)\n",
        "print(len(b2))"
      ]
    },
    {
      "cell_type": "markdown",
      "metadata": {
        "id": "vWZEFr10aRFh"
      },
      "source": [
        "### Bonus"
      ]
    },
    {
      "cell_type": "markdown",
      "metadata": {
        "id": "BpeWyFNGaRFh"
      },
      "source": [
        "Try to solve these katas using list comprehensions."
      ]
    },
    {
      "cell_type": "markdown",
      "metadata": {
        "id": "07HPZXCpaRFh"
      },
      "source": [
        "**Easy**\n",
        "- [Insert values](https://www.codewars.com/kata/invert-values)\n",
        "- [Sum Square(n)](https://www.codewars.com/kata/square-n-sum)\n",
        "- [Digitize](https://www.codewars.com/kata/digitize)\n",
        "- [List filtering](https://www.codewars.com/kata/list-filtering)\n",
        "- [Arithmetic list](https://www.codewars.com/kata/541da001259d9ca85d000688)\n",
        "\n",
        "**Medium**\n",
        "- [Multiples of 3 or 5](https://www.codewars.com/kata/514b92a657cdc65150000006)\n",
        "- [Count of positives / sum of negatives](https://www.codewars.com/kata/count-of-positives-slash-sum-of-negatives)\n",
        "- [Categorize new member](https://www.codewars.com/kata/5502c9e7b3216ec63c0001aa)\n",
        "\n",
        "**Advanced**\n",
        "- [Queue time counter](https://www.codewars.com/kata/queue-time-counter)"
      ]
    },
    {
      "cell_type": "markdown",
      "source": [
        "### Bonus"
      ],
      "metadata": {
        "id": "wlodBJeutdut"
      }
    },
    {
      "cell_type": "markdown",
      "source": [
        "**Easy**"
      ],
      "metadata": {
        "id": "KOa0XB1otZHR"
      }
    },
    {
      "cell_type": "markdown",
      "source": [
        "Insert values: Given a set of numbers, return the additive inverse of each. Each positive becomes negatives, and the negatives become positives.\n",
        "\n",
        "You can assume that all values are integers. Do not mutate the input array.\n"
      ],
      "metadata": {
        "id": "089Yxru7tGT_"
      }
    },
    {
      "cell_type": "code",
      "source": [
        "#your code here\n",
        "lista_entera = [ -5, 4, -7, 0, -1, 3, 2, -6 ]\n",
        "lista_entera_negativa = [ -x for x in lista_entera ]\n",
        "print(lista_entera_negativa)"
      ],
      "metadata": {
        "colab": {
          "base_uri": "https://localhost:8080/"
        },
        "id": "mO9JfEC2sQUM",
        "outputId": "cddcdf2f-7a03-46b9-88f9-7af28a99bb6d"
      },
      "execution_count": 10,
      "outputs": [
        {
          "output_type": "stream",
          "name": "stdout",
          "text": [
            "[5, -4, 7, 0, 1, -3, -2, 6]\n"
          ]
        }
      ]
    },
    {
      "cell_type": "markdown",
      "source": [
        "Sum_Square(n)\n",
        "\n",
        "Complete the square sum function so that it squares each number passed into it and then sums the results together.\n",
        "\n",
        "For example, for [1, 2, 2] it should return 9 because\n",
        "1^2 + 2^2 + 2^2 = 9\n",
        "\n",
        "1^2 + 2^2 + 2^2 = 9."
      ],
      "metadata": {
        "id": "dr8zIjsZvcwa"
      }
    },
    {
      "cell_type": "code",
      "source": [
        "#Your code here\n",
        "lista_num = [ 1, 2, 2]\n",
        "lista_cuadrados = [ x**2 for x in lista_num ]\n",
        "print(lista_cuadrados)\n",
        "print(sum(lista_cuadrados))"
      ],
      "metadata": {
        "colab": {
          "base_uri": "https://localhost:8080/"
        },
        "id": "9fOk0607wMGL",
        "outputId": "f329b82d-2389-48f6-b1d0-61349f28be07"
      },
      "execution_count": 11,
      "outputs": [
        {
          "output_type": "stream",
          "name": "stdout",
          "text": [
            "[1, 4, 4]\n",
            "9\n"
          ]
        }
      ]
    },
    {
      "cell_type": "markdown",
      "source": [
        "Digitize\n",
        "\n",
        "Given a non-negative integer, return an array / a list of the individual digits in order.\n",
        "\n",
        "Examples:\n",
        "\n",
        "123 => [1,2,3]\n",
        "\n",
        "1 => [1]\n",
        "\n",
        "8675309 => [8,6,7,5,3,0,9]"
      ],
      "metadata": {
        "id": "dSoPD5bfzCLk"
      }
    },
    {
      "cell_type": "code",
      "source": [
        "#Your code here\n",
        "\n",
        "import random\n",
        "\n",
        "n = random.randint(1,100000)\n",
        "print(n)\n",
        "lista_digitos = [ x for x in str(n) ]\n",
        "print(lista_digitos)"
      ],
      "metadata": {
        "colab": {
          "base_uri": "https://localhost:8080/"
        },
        "id": "el7oSKTCzRP1",
        "outputId": "19e489a7-69fb-4179-a017-efc51da9ec11"
      },
      "execution_count": 12,
      "outputs": [
        {
          "output_type": "stream",
          "name": "stdout",
          "text": [
            "49538\n",
            "['4', '9', '5', '3', '8']\n"
          ]
        }
      ]
    },
    {
      "cell_type": "markdown",
      "source": [
        "List filtering\n",
        "\n",
        "In this kata you will create a function that takes a list of non-negative integers and strings and returns a new list with the strings filtered out.\n",
        "\n",
        "\n",
        "Example\n",
        "\n",
        "filter_list([1,2,'a','b']) == [1,2]\n",
        "\n",
        "filter_list([1,'a','b',0,15]) == [1,0,15]\n",
        "\n",
        "filter_list([1,2,'aasf','1','123',123]) == [1,2,123]"
      ],
      "metadata": {
        "id": "SGa4UK809MhP"
      }
    },
    {
      "cell_type": "code",
      "source": [
        "#Your code here\n",
        "\n",
        "lista_mixta = [ 1, 'a', 'tienda', 5, '123', 78, 25, 'PEPE', 8 ]\n",
        "print(lista_mixta)\n",
        "\n",
        "lista_filtrada = [ x for x in lista_mixta if type(x) == int ]\n",
        "print(lista_filtrada)"
      ],
      "metadata": {
        "colab": {
          "base_uri": "https://localhost:8080/"
        },
        "id": "QthPIlPC94F1",
        "outputId": "4bdec000-70f4-41b0-d119-685043df7a59"
      },
      "execution_count": 13,
      "outputs": [
        {
          "output_type": "stream",
          "name": "stdout",
          "text": [
            "[1, 'a', 'tienda', 5, '123', 78, 25, 'PEPE', 8]\n",
            "[1, 5, 78, 25, 8]\n"
          ]
        }
      ]
    },
    {
      "cell_type": "markdown",
      "source": [
        "Arithmetic list\n",
        "\n",
        "In this kata, you will write an arithmetic list which is basically a list that contains consecutive terms in the sequence.\n",
        "You will be given three parameters :\n",
        "\n",
        "* first the first term in the sequence\n",
        "\n",
        "* c the constant that you are going to ADD ( since it is an arithmetic sequence...)\n",
        "\n",
        "* l the number of terms that should be returned\n",
        "Useful link: Sequence\n",
        "\n",
        "\n",
        "Be sure to check out my Arithmetic sequence Kata first ;)\n",
        "\n",
        "Don't forget about the indexing pitfall ;)\n"
      ],
      "metadata": {
        "id": "xqA6YEBI_So3"
      }
    },
    {
      "cell_type": "code",
      "source": [
        "#Your code here\n",
        "\n",
        "p = 1001\n",
        "c = 7\n",
        "l = 25\n",
        "\n",
        "arithmetic_list = [ p + (x*c) for x in range(0,l) ]\n",
        "print(arithmetic_list)"
      ],
      "metadata": {
        "colab": {
          "base_uri": "https://localhost:8080/"
        },
        "id": "UaWINFC4AWS6",
        "outputId": "9f431740-c5f7-4c41-e660-db6cebc9ad6e"
      },
      "execution_count": 14,
      "outputs": [
        {
          "output_type": "stream",
          "name": "stdout",
          "text": [
            "[1001, 1008, 1015, 1022, 1029, 1036, 1043, 1050, 1057, 1064, 1071, 1078, 1085, 1092, 1099, 1106, 1113, 1120, 1127, 1134, 1141, 1148, 1155, 1162, 1169]\n"
          ]
        }
      ]
    },
    {
      "cell_type": "markdown",
      "source": [
        "**Medium**"
      ],
      "metadata": {
        "id": "mTfA3-C_DpVp"
      }
    },
    {
      "cell_type": "markdown",
      "source": [
        "Multiple of 3 or 5\n",
        "\n",
        "If we list all the natural numbers below 10 that are multiples of 3 or 5, we get 3, 5, 6 and 9. The sum of these multiples is 23.\n",
        "\n",
        "Finish the solution so that it returns the sum of all the multiples of 3 or 5 below the number passed in.\n",
        "\n",
        "Additionally, if the number is negative, return 0.\n",
        "\n",
        "Note: If a number is a multiple of both 3 and 5, only count it once.\n",
        "\n",
        "Courtesy of projecteuler.net (Problem 1)"
      ],
      "metadata": {
        "id": "i82eR4siEISI"
      }
    },
    {
      "cell_type": "code",
      "source": [
        "#Your code here\n",
        "\n",
        "num = int(input(\"Introduce un número entero: \"))\n",
        "\n",
        "list_num_mult_3or5 = [ 0 if x < 0 else x for x in range(1,num) if x % 3 == 0 or x % 5 == 0 ]\n",
        "print(list_num_mult_3or5)\n",
        "print(sum(list_num_mult_3or5))"
      ],
      "metadata": {
        "colab": {
          "base_uri": "https://localhost:8080/"
        },
        "id": "Xv91XxJtD2jB",
        "outputId": "d71a2b8e-fa2e-4b1d-9a6f-a5a5eb10bfdd"
      },
      "execution_count": 16,
      "outputs": [
        {
          "output_type": "stream",
          "name": "stdout",
          "text": [
            "Introduce un número entero: 100\n",
            "[3, 5, 6, 9, 10, 12, 15, 18, 20, 21, 24, 25, 27, 30, 33, 35, 36, 39, 40, 42, 45, 48, 50, 51, 54, 55, 57, 60, 63, 65, 66, 69, 70, 72, 75, 78, 80, 81, 84, 85, 87, 90, 93, 95, 96, 99]\n",
            "2318\n"
          ]
        }
      ]
    },
    {
      "cell_type": "markdown",
      "source": [
        "Count of positives / sum of negatives\n",
        "\n",
        "Given an array of integers.\n",
        "\n",
        "Return an array, where the first element is the count of positives numbers and the second element is sum of negative numbers. 0 is neither positive nor negative.\n",
        "\n",
        "If the input is an empty array or is null, return an empty array.\n",
        "\n",
        "Example\n",
        "\n",
        "For input [1, 2, 3, 4, 5, 6, 7, 8, 9, 10, -11, -12, -13, -14, -15], you should return [10, -65]."
      ],
      "metadata": {
        "id": "pfL4OKbnMRzA"
      }
    },
    {
      "cell_type": "code",
      "source": [
        "#Your code here\n",
        "\n",
        "lista_num = [1, 2, 3, 4, 5, 6, 7, 8, 9, 10, -11, -12, -13, -14, -15]\n",
        "\n",
        "resultado = [ len([ x for x in lista_num if x > 0 ]), sum([ x for x in lista_num if x < 0 ]) ]\n",
        "print(resultado)"
      ],
      "metadata": {
        "colab": {
          "base_uri": "https://localhost:8080/"
        },
        "id": "pG2-9q5qMiFD",
        "outputId": "1aed4d31-67b0-4559-9330-d3b5d71b6a37"
      },
      "execution_count": 17,
      "outputs": [
        {
          "output_type": "stream",
          "name": "stdout",
          "text": [
            "[10, -65]\n"
          ]
        }
      ]
    },
    {
      "cell_type": "markdown",
      "source": [
        "Categorize new member\n",
        "\n",
        "he Western Suburbs Croquet Club has two categories of membership, Senior and Open. They would like your help with an application form that will tell prospective members which category they will be placed.\n",
        "\n",
        "To be a senior, a member must be at least 55 years old and have a handicap greater than 7. In this croquet club, handicaps range from -2 to +26; the better the player the lower the handicap.\n",
        "\n",
        "Input\n",
        "\n",
        "Input will consist of a list of pairs. Each pair contains information for a single potential member. Information consists of an integer for the person's age and an integer for the person's handicap.\n",
        "\n",
        "Output\n",
        "\n",
        "Output will consist of a list of string values (in Haskell and C: Open or Senior) stating whether the respective member is to be placed in the senior or open category.\n",
        "\n",
        "Example\n",
        "\n",
        "input =  [[18, 20], [45, 2], [61, 12], [37, 6], [21, 21], [78, 9]]\n",
        "\n",
        "output = [\"Open\", \"Open\", \"Senior\", \"Open\", \"Open\", \"Senior\"]"
      ],
      "metadata": {
        "id": "BBNJln-3NQSj"
      }
    },
    {
      "cell_type": "code",
      "source": [
        "#Your code here\n",
        "\n",
        "input =  [[18, 20], [45, 2], [61, 12], [37, 6], [21, 21], [78, 9]]\n",
        "\n",
        "output = [\"Senior\" if edad >= 55 and handicap > 7 else \"Open\" for edad, handicap in input]\n",
        "\n",
        "print(output)\n"
      ],
      "metadata": {
        "colab": {
          "base_uri": "https://localhost:8080/"
        },
        "id": "iykHRvo6NVRp",
        "outputId": "ef07f136-7b13-431c-b702-62e2571c836d"
      },
      "execution_count": 18,
      "outputs": [
        {
          "output_type": "stream",
          "name": "stdout",
          "text": [
            "['Open', 'Open', 'Senior', 'Open', 'Open', 'Senior']\n"
          ]
        }
      ]
    },
    {
      "cell_type": "markdown",
      "source": [
        "Queue time counter\n",
        "\n",
        "You managed to send your friend to queue for tickets in your stead, but there is a catch: he will get there only if you tell him how much that is going to take. And everybody can only take one ticket at a time, then they go back in the last position of the queue if they need more (or go home if they are fine).\n",
        "\n",
        "Each ticket takes one minutes to emit, the queue is well disciplined, Brit-style, and so it moves smoothly, with no waste of time.\n",
        "\n",
        "You will be given an array/list/vector with all the people queuing and the initial position of your buddy, so for example, knowing that your friend is in the third position (that we will consider equal to the index, 2 (3 in COBOL): he is the guy that wants 3 tickets!) and the initial queue is [2, 5, 3, 4, 6].\n",
        "\n",
        "The first dude gets his ticket and the queue goes now like this [5, 3, 4, 6, 1], then [3, 4, 6, 1, 4] and so on. In the end, our buddy will be queuing for 12 minutes, true story!\n",
        "\n",
        "Build a function to compute it, resting assured that only positive integers are going to be there and you will be always given a valid index; but we also want to go to pretty popular events, so be ready for big queues with people getting plenty of tickets.\n"
      ],
      "metadata": {
        "id": "eEGVOQYEainW"
      }
    },
    {
      "cell_type": "code",
      "source": [
        "#Your code here\n",
        "\n",
        "posicion_amigo = 2\n",
        "\n",
        "cola = [2, 5, 3, 4, 6]\n",
        "\n",
        "tiempo = tiempo = sum([min(t, cola[posicion_amigo] - (i > posicion_amigo)) for i, t in enumerate(cola)])\n",
        "\n",
        "print(tiempo)"
      ],
      "metadata": {
        "colab": {
          "base_uri": "https://localhost:8080/"
        },
        "id": "ceKhTiR3a5j7",
        "outputId": "546dc973-48ed-4b26-c41c-7d8a6a1d31bf"
      },
      "execution_count": 19,
      "outputs": [
        {
          "output_type": "stream",
          "name": "stdout",
          "text": [
            "12\n"
          ]
        }
      ]
    }
  ],
  "metadata": {
    "kernelspec": {
      "display_name": "Python 3 (ipykernel)",
      "language": "python",
      "name": "python3"
    },
    "language_info": {
      "codemirror_mode": {
        "name": "ipython",
        "version": 3
      },
      "file_extension": ".py",
      "mimetype": "text/x-python",
      "name": "python",
      "nbconvert_exporter": "python",
      "pygments_lexer": "ipython3",
      "version": "3.9.13"
    },
    "vscode": {
      "interpreter": {
        "hash": "aee8b7b246df8f9039afb4144a1f6fd8d2ca17a180786b69acc140d282b71a49"
      }
    },
    "colab": {
      "provenance": []
    }
  },
  "nbformat": 4,
  "nbformat_minor": 0
}