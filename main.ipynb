{
  "cells": [
    {
      "cell_type": "markdown",
      "source": [
        "### Alumno: *Juan Alberto Peñalver Alvarez*"
      ],
      "metadata": {
        "id": "9SjjjMaOEh1Y"
      }
    },
    {
      "cell_type": "markdown",
      "metadata": {
        "id": "Vo3V5ClcxIEV"
      },
      "source": [
        "## Words"
      ]
    },
    {
      "cell_type": "code",
      "execution_count": null,
      "metadata": {
        "id": "yJV3hroBxIEW"
      },
      "outputs": [],
      "source": [
        "words = ['play', 'filling', 'bar', 'theatre', 'easygoing', 'date', 'lead', 'that', 'story',  'island']"
      ]
    },
    {
      "cell_type": "markdown",
      "metadata": {
        "id": "5y_0RLpixIEW"
      },
      "source": [
        "**Print every word in upper case**"
      ]
    },
    {
      "cell_type": "code",
      "execution_count": null,
      "metadata": {
        "id": "xwhTRTtMxIEX",
        "colab": {
          "base_uri": "https://localhost:8080/"
        },
        "outputId": "cd7455e5-814e-4275-b618-a4bec15697a9"
      },
      "outputs": [
        {
          "output_type": "stream",
          "name": "stdout",
          "text": [
            "PLAY\n",
            "FILLING\n",
            "BAR\n",
            "THEATRE\n",
            "EASYGOING\n",
            "DATE\n",
            "LEAD\n",
            "THAT\n",
            "STORY\n",
            "ISLAND\n"
          ]
        }
      ],
      "source": [
        "# your code here\n",
        "\n",
        "for word in words:\n",
        "    print(word.upper())"
      ]
    },
    {
      "cell_type": "markdown",
      "metadata": {
        "id": "RPjX9ghLxIEX"
      },
      "source": [
        "**Create a new list containing only words with 5 or more letters**"
      ]
    },
    {
      "cell_type": "code",
      "execution_count": null,
      "metadata": {
        "id": "gcTBfjlZxIEX",
        "colab": {
          "base_uri": "https://localhost:8080/"
        },
        "outputId": "c7441b08-a831-4054-dff6-b09d539b2502"
      },
      "outputs": [
        {
          "output_type": "stream",
          "name": "stdout",
          "text": [
            "['filling', 'theatre', 'easygoing', 'story', 'island']\n"
          ]
        }
      ],
      "source": [
        "# your code here\n",
        "\n",
        "new_list_words = []\n",
        "\n",
        "for word in words:\n",
        "    if len(word) >= 5:\n",
        "        new_list_words.append(word)\n",
        "\n",
        "print(new_list_words)"
      ]
    },
    {
      "cell_type": "markdown",
      "metadata": {
        "id": "8_qRDukKxIEX"
      },
      "source": [
        "**Print the first word starting with \"t\"**"
      ]
    },
    {
      "cell_type": "code",
      "execution_count": null,
      "metadata": {
        "id": "1b8anbJMxIEX",
        "colab": {
          "base_uri": "https://localhost:8080/"
        },
        "outputId": "b2eaa0b0-4b9e-44ef-8500-2f1b1ffe98d0"
      },
      "outputs": [
        {
          "output_type": "stream",
          "name": "stdout",
          "text": [
            "theatre\n"
          ]
        }
      ],
      "source": [
        "# your code here\n",
        "\n",
        "for word in words:\n",
        "    if word[0] == 't':\n",
        "        print(word)\n",
        "        break"
      ]
    },
    {
      "cell_type": "markdown",
      "metadata": {
        "id": "9GO-WzvJxIEX"
      },
      "source": [
        "## Numbers"
      ]
    },
    {
      "cell_type": "markdown",
      "metadata": {
        "id": "60yLYiKpxIEX"
      },
      "source": [
        "**Create a list containing the square of every number from 1 to 10**"
      ]
    },
    {
      "cell_type": "code",
      "execution_count": null,
      "metadata": {
        "id": "UXKSzOTpxIEY",
        "colab": {
          "base_uri": "https://localhost:8080/"
        },
        "outputId": "dabe3bfc-de16-4d28-86f2-aca48b578a8a"
      },
      "outputs": [
        {
          "output_type": "stream",
          "name": "stdout",
          "text": [
            "[1, 4, 9, 16, 25, 36, 49, 64, 81, 100]\n"
          ]
        }
      ],
      "source": [
        "# your code here\n",
        "\n",
        "import math\n",
        "\n",
        "cuadrados = []\n",
        "\n",
        "for x in range(1, 11):\n",
        "    cuadrados.append(x**2)\n",
        "\n",
        "print(cuadrados)"
      ]
    },
    {
      "cell_type": "markdown",
      "metadata": {
        "id": "kYaanh5oxIEY"
      },
      "source": [
        "**Print a list containing the square of every odd number from 1 to 10**"
      ]
    },
    {
      "cell_type": "code",
      "execution_count": null,
      "metadata": {
        "id": "QtulekxUxIEY",
        "colab": {
          "base_uri": "https://localhost:8080/"
        },
        "outputId": "7120c597-ccc0-4a73-dec3-cf9c3e070999"
      },
      "outputs": [
        {
          "output_type": "stream",
          "name": "stdout",
          "text": [
            "[1, 9, 25, 49, 81]\n"
          ]
        }
      ],
      "source": [
        "# your code here\n",
        "\n",
        "cuadrados_impares = []\n",
        "\n",
        "for x in range(1,11,2):\n",
        "    cuadrados_impares.append(x**2)\n",
        "\n",
        "print(cuadrados_impares)"
      ]
    },
    {
      "cell_type": "markdown",
      "metadata": {
        "id": "7VrtNHk4xIEY"
      },
      "source": [
        "**Create a list with the squares of all multiples of 8 below 1000**"
      ]
    },
    {
      "cell_type": "code",
      "execution_count": null,
      "metadata": {
        "id": "x0YSGQvFxIEY",
        "colab": {
          "base_uri": "https://localhost:8080/"
        },
        "outputId": "7d6545ba-d7e2-42bc-b8b8-833f7eb9d684"
      },
      "outputs": [
        {
          "output_type": "stream",
          "name": "stdout",
          "text": [
            "[64, 256, 576, 1024, 1600, 2304, 3136, 4096, 5184, 6400, 7744, 9216, 10816, 12544, 14400, 16384, 18496, 20736, 23104, 25600, 28224, 30976, 33856, 36864, 40000, 43264, 46656, 50176, 53824, 57600, 61504, 65536, 69696, 73984, 78400, 82944, 87616, 92416, 97344, 102400, 107584, 112896, 118336, 123904, 129600, 135424, 141376, 147456, 153664, 160000, 166464, 173056, 179776, 186624, 193600, 200704, 207936, 215296, 222784, 230400, 238144, 246016, 254016, 262144, 270400, 278784, 287296, 295936, 304704, 313600, 322624, 331776, 341056, 350464, 360000, 369664, 379456, 389376, 399424, 409600, 419904, 430336, 440896, 451584, 462400, 473344, 484416, 495616, 506944, 518400, 529984, 541696, 553536, 565504, 577600, 589824, 602176, 614656, 627264, 640000, 652864, 665856, 678976, 692224, 705600, 719104, 732736, 746496, 760384, 774400, 788544, 802816, 817216, 831744, 846400, 861184, 876096, 891136, 906304, 921600, 937024, 952576, 968256, 984064]\n"
          ]
        }
      ],
      "source": [
        "# your code here\n",
        "\n",
        "cuadrados_multiplos_ocho = []\n",
        "\n",
        "for x in range(8,1000,8):\n",
        "    cuadrados_multiplos_ocho.append(x**2)\n",
        "\n",
        "print(cuadrados_multiplos_ocho)"
      ]
    },
    {
      "cell_type": "markdown",
      "metadata": {
        "id": "obGhMRzIxIEY"
      },
      "source": [
        "## People"
      ]
    },
    {
      "cell_type": "code",
      "execution_count": null,
      "metadata": {
        "id": "xDC9V1qOxIEY"
      },
      "outputs": [],
      "source": [
        "people = [\n",
        "    {\n",
        "        \"name\": \"Juan\",\n",
        "        \"age\": 34,\n",
        "        \"n_kids\": 2\n",
        "    },\n",
        "    {\n",
        "        \"name\": \"Pepe\",\n",
        "        \"age\": 27,\n",
        "        \"n_kids\": 0\n",
        "    },\n",
        "    {\n",
        "        \"name\": \"Sonia\",\n",
        "        \"age\": 41,\n",
        "        \"n_kids\": 1\n",
        "    },\n",
        "    {\n",
        "        \"name\": \"Lucía\",\n",
        "        \"age\": 22,\n",
        "        \"n_kids\": 2\n",
        "    },\n",
        "    {\n",
        "        \"name\": \"Leo\",\n",
        "        \"age\": 55,\n",
        "        \"n_kids\": 5\n",
        "    }\n",
        "]"
      ]
    },
    {
      "cell_type": "markdown",
      "metadata": {
        "id": "zW2egvnOxIEZ"
      },
      "source": [
        "**How many people are there?**"
      ]
    },
    {
      "cell_type": "code",
      "execution_count": null,
      "metadata": {
        "id": "4Sn8TxGYxIEZ",
        "colab": {
          "base_uri": "https://localhost:8080/"
        },
        "outputId": "f202941d-35d4-4a4d-fc23-034ad4d60c02"
      },
      "outputs": [
        {
          "output_type": "stream",
          "name": "stdout",
          "text": [
            "Número de personas:  5\n"
          ]
        }
      ],
      "source": [
        "# your code here\n",
        "\n",
        "num_personas = len(people)\n",
        "\n",
        "print(\"Número de personas: \", num_personas)"
      ]
    },
    {
      "cell_type": "markdown",
      "metadata": {
        "id": "1O7wu9vAxIEZ"
      },
      "source": [
        "**How many people have kids**?"
      ]
    },
    {
      "cell_type": "code",
      "execution_count": null,
      "metadata": {
        "id": "lrbTJekgxIEZ",
        "colab": {
          "base_uri": "https://localhost:8080/"
        },
        "outputId": "d66575fe-50f7-45e4-88c9-47d16123bb4e"
      },
      "outputs": [
        {
          "output_type": "stream",
          "name": "stdout",
          "text": [
            "Personas con hijos: 4\n"
          ]
        }
      ],
      "source": [
        "# your code here\n",
        "\n",
        "people_with_kids = 0\n",
        "\n",
        "for persona in people:\n",
        "    if persona[\"n_kids\"] > 0:\n",
        "        people_with_kids += 1\n",
        "\n",
        "print(\"Personas con hijos:\", people_with_kids)\n"
      ]
    },
    {
      "cell_type": "markdown",
      "metadata": {
        "id": "wdzq2zqgxIEZ"
      },
      "source": [
        "**How many kids do they have in total?**"
      ]
    },
    {
      "cell_type": "code",
      "execution_count": null,
      "metadata": {
        "id": "XSLYKnO5xIEZ",
        "colab": {
          "base_uri": "https://localhost:8080/"
        },
        "outputId": "2d842cef-6fd2-4e88-b87f-22c3871f0d90"
      },
      "outputs": [
        {
          "output_type": "stream",
          "name": "stdout",
          "text": [
            "Número total de hijos: 10\n"
          ]
        }
      ],
      "source": [
        "# your code here\n",
        "\n",
        "total_kids = 0\n",
        "\n",
        "for persona in people:\n",
        "    total_kids += persona[\"n_kids\"]\n",
        "\n",
        "print(\"Número total de hijos:\", total_kids)\n"
      ]
    },
    {
      "cell_type": "markdown",
      "metadata": {
        "id": "w57MOV1bxIEZ"
      },
      "source": [
        "**In a year's time, names ending with \"a\" will have an extra kid. Create a list of dictionaries with people's info in a year's time**"
      ]
    },
    {
      "cell_type": "code",
      "execution_count": null,
      "metadata": {
        "id": "-PZMOQChxIEZ",
        "colab": {
          "base_uri": "https://localhost:8080/"
        },
        "outputId": "6ca114b8-526c-4061-a133-64994f9339af"
      },
      "outputs": [
        {
          "output_type": "stream",
          "name": "stdout",
          "text": [
            "[{'name': 'Juan', 'age': 35, 'n_kids': 2}, {'name': 'Pepe', 'age': 28, 'n_kids': 0}, {'name': 'Sonia', 'age': 42, 'n_kids': 2}, {'name': 'Lucía', 'age': 23, 'n_kids': 3}, {'name': 'Leo', 'age': 56, 'n_kids': 5}]\n"
          ]
        }
      ],
      "source": [
        "# your code here\n",
        "\n",
        "people_next_year = []\n",
        "\n",
        "for persona in people:\n",
        "    persona_1 = persona.copy()\n",
        "    persona_1[\"age\"] += 1\n",
        "    if persona_1[\"name\"].endswith(\"a\"):\n",
        "        persona_1[\"n_kids\"] += 1\n",
        "    people_next_year.append(persona_1)\n",
        "\n",
        "print(people_next_year)\n"
      ]
    }
  ],
  "metadata": {
    "kernelspec": {
      "display_name": "Python 3 (ipykernel)",
      "language": "python",
      "name": "python3"
    },
    "language_info": {
      "codemirror_mode": {
        "name": "ipython",
        "version": 3
      },
      "file_extension": ".py",
      "mimetype": "text/x-python",
      "name": "python",
      "nbconvert_exporter": "python",
      "pygments_lexer": "ipython3",
      "version": "3.9.13"
    },
    "toc": {
      "base_numbering": 1,
      "nav_menu": {},
      "number_sections": false,
      "sideBar": true,
      "skip_h1_title": false,
      "title_cell": "Table of Contents",
      "title_sidebar": "Contents",
      "toc_cell": false,
      "toc_position": {},
      "toc_section_display": true,
      "toc_window_display": true
    },
    "varInspector": {
      "cols": {
        "lenName": 16,
        "lenType": 16,
        "lenVar": 40
      },
      "kernels_config": {
        "python": {
          "delete_cmd_postfix": "",
          "delete_cmd_prefix": "del ",
          "library": "var_list.py",
          "varRefreshCmd": "print(var_dic_list())"
        },
        "r": {
          "delete_cmd_postfix": ") ",
          "delete_cmd_prefix": "rm(",
          "library": "var_list.r",
          "varRefreshCmd": "cat(var_dic_list()) "
        }
      },
      "types_to_exclude": [
        "module",
        "function",
        "builtin_function_or_method",
        "instance",
        "_Feature"
      ],
      "window_display": false
    },
    "vscode": {
      "interpreter": {
        "hash": "aee8b7b246df8f9039afb4144a1f6fd8d2ca17a180786b69acc140d282b71a49"
      }
    },
    "colab": {
      "provenance": []
    }
  },
  "nbformat": 4,
  "nbformat_minor": 0
}