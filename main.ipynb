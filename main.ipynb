{
  "cells": [
    {
      "cell_type": "markdown",
      "source": [
        "### Alumno: *Juan Alberto Peñalver Alvarez*"
      ],
      "metadata": {
        "id": "C1ROKqNkNgI3"
      }
    },
    {
      "cell_type": "markdown",
      "metadata": {
        "id": "nRp86zCFKf7r"
      },
      "source": [
        "# Functions"
      ]
    },
    {
      "cell_type": "markdown",
      "metadata": {
        "id": "skUnpTqJKf7s"
      },
      "source": [
        "On this lab we will put to practice some of the concepts we have learned on this past few days.\n",
        "\n",
        "`NOTE: On this lab you should try to write all the functions yourself using only the most basic of python syntax and without functions such as len, count, sum, max, min, in, etc. Give it a try. 🧑🏻‍💻👩🏻‍💻`\n",
        "\n",
        "The cell after each exercise contains a few tests to check if your function works as expected."
      ]
    },
    {
      "cell_type": "code",
      "source": [
        "from google.colab import drive\n",
        "drive.mount('/content/drive')\n"
      ],
      "metadata": {
        "colab": {
          "base_uri": "https://localhost:8080/"
        },
        "id": "K6q6IQfkKjqZ",
        "outputId": "a5711c30-4a3f-4dc8-98d3-941e9e6a279d"
      },
      "execution_count": 6,
      "outputs": [
        {
          "output_type": "stream",
          "name": "stdout",
          "text": [
            "Drive already mounted at /content/drive; to attempt to forcibly remount, call drive.mount(\"/content/drive\", force_remount=True).\n"
          ]
        }
      ]
    },
    {
      "cell_type": "code",
      "source": [
        "!ls /content/drive/MyDrive/mod/\n"
      ],
      "metadata": {
        "colab": {
          "base_uri": "https://localhost:8080/"
        },
        "id": "SuwanAruLwpB",
        "outputId": "a196101a-ab45-416a-c5b5-4efc34d55b06"
      },
      "execution_count": 7,
      "outputs": [
        {
          "output_type": "stream",
          "name": "stdout",
          "text": [
            "testing.py\n"
          ]
        }
      ]
    },
    {
      "cell_type": "code",
      "source": [
        "import sys\n",
        "sys.path.append('/content/drive/MyDrive/mod')\n"
      ],
      "metadata": {
        "id": "ta2VMOevM3p2"
      },
      "execution_count": 8,
      "outputs": []
    },
    {
      "cell_type": "code",
      "execution_count": 10,
      "metadata": {
        "id": "ZgZ-bok0Kf7s"
      },
      "outputs": [],
      "source": [
        "from testing import *\n",
        "import unittest"
      ]
    },
    {
      "cell_type": "markdown",
      "metadata": {
        "id": "g4f7tLG1Kf7t"
      },
      "source": [
        "## 1. Write a function that returns the greater of two numbers"
      ]
    },
    {
      "cell_type": "code",
      "execution_count": 11,
      "metadata": {
        "id": "KZTudz0fKf7t"
      },
      "outputs": [],
      "source": [
        "def greater(a,b):\n",
        "#your code here\n",
        "  if a > b:\n",
        "    return a\n",
        "  else:\n",
        "    return b"
      ]
    },
    {
      "cell_type": "code",
      "execution_count": 12,
      "metadata": {
        "id": "fpNSr8A1Kf7u",
        "colab": {
          "base_uri": "https://localhost:8080/"
        },
        "outputId": "d9cb0c55-e3b3-41c0-e3b0-c14995ce5773"
      },
      "outputs": [
        {
          "output_type": "stream",
          "name": "stderr",
          "text": [
            "....................................................................................................\n",
            "----------------------------------------------------------------------\n",
            "Ran 100 tests in 0.110s\n",
            "\n",
            "OK\n"
          ]
        }
      ],
      "source": [
        "# This will test your function\n",
        "test_greater(greater)"
      ]
    },
    {
      "cell_type": "code",
      "execution_count": null,
      "metadata": {
        "id": "64BICi2KKf7u"
      },
      "outputs": [],
      "source": [
        "#your code here"
      ]
    },
    {
      "cell_type": "markdown",
      "metadata": {
        "id": "Aka1xhO3Kf7u"
      },
      "source": [
        "## 2. Now write a function that returns the largest element on a list"
      ]
    },
    {
      "cell_type": "code",
      "execution_count": 13,
      "metadata": {
        "id": "7BBACwIhKf7u"
      },
      "outputs": [],
      "source": [
        "#your code here\n",
        "def greatest(lista):\n",
        "    max = lista[0]\n",
        "    for i in lista:\n",
        "      if i > max:\n",
        "        max = i\n",
        "    return max"
      ]
    },
    {
      "cell_type": "code",
      "execution_count": 14,
      "metadata": {
        "id": "xBZ4cVefKf7v",
        "colab": {
          "base_uri": "https://localhost:8080/"
        },
        "outputId": "80368cc6-7fdc-4dec-dc9b-9acc308deb2b"
      },
      "outputs": [
        {
          "output_type": "stream",
          "name": "stderr",
          "text": [
            "....................................................................................................\n",
            "----------------------------------------------------------------------\n",
            "Ran 100 tests in 0.074s\n",
            "\n",
            "OK\n"
          ]
        }
      ],
      "source": [
        "# This will test your function\n",
        "test_greatest(greatest)"
      ]
    },
    {
      "cell_type": "markdown",
      "metadata": {
        "id": "vSVLF0IJKf7v"
      },
      "source": [
        "## 3. Write a function that sums all the elements on a list"
      ]
    },
    {
      "cell_type": "code",
      "execution_count": 16,
      "metadata": {
        "id": "QeljYPP7Kf7v"
      },
      "outputs": [],
      "source": [
        "def sum_all(lst):\n",
        "#your code here\n",
        "    return sum(lst)"
      ]
    },
    {
      "cell_type": "code",
      "execution_count": 17,
      "metadata": {
        "scrolled": true,
        "id": "qkM1IWWyKf7v",
        "colab": {
          "base_uri": "https://localhost:8080/"
        },
        "outputId": "93b427ee-3cc6-426d-c75f-782ff1784cc5"
      },
      "outputs": [
        {
          "output_type": "stream",
          "name": "stderr",
          "text": [
            "....................................................................................................\n",
            "----------------------------------------------------------------------\n",
            "Ran 100 tests in 0.080s\n",
            "\n",
            "OK\n"
          ]
        }
      ],
      "source": [
        "# This will test your function\n",
        "test_sum(sum_all)"
      ]
    },
    {
      "cell_type": "markdown",
      "metadata": {
        "id": "CPi0wi2LKf7v"
      },
      "source": [
        "## 4. Write another function that multiplies all the elements on a list"
      ]
    },
    {
      "cell_type": "code",
      "execution_count": 20,
      "metadata": {
        "id": "sZSKpDL2Kf7v"
      },
      "outputs": [],
      "source": [
        "def mult_all(lst):\n",
        "#your code here\n",
        "    resultado = 1\n",
        "    for x in lst:\n",
        "        resultado = resultado * x\n",
        "    return resultado"
      ]
    },
    {
      "cell_type": "code",
      "execution_count": 21,
      "metadata": {
        "scrolled": true,
        "id": "Y33GuLg4Kf7v",
        "colab": {
          "base_uri": "https://localhost:8080/"
        },
        "outputId": "2196014f-c3b5-4c5d-d442-4e01dc236b5b"
      },
      "outputs": [
        {
          "output_type": "stream",
          "name": "stderr",
          "text": [
            "....................................................................................................\n",
            "----------------------------------------------------------------------\n",
            "Ran 100 tests in 0.077s\n",
            "\n",
            "OK\n"
          ]
        }
      ],
      "source": [
        "# This will test your function\n",
        "test_mult(mult_all)"
      ]
    },
    {
      "cell_type": "markdown",
      "metadata": {
        "id": "hwEkXQ1JKf7w"
      },
      "source": [
        "## 5. Now combine those two ideas and write a function that receives a list and either \"+\" or \"*\" and outputs acordingly"
      ]
    },
    {
      "cell_type": "code",
      "execution_count": 24,
      "metadata": {
        "id": "pOtY1TdAKf7w"
      },
      "outputs": [],
      "source": [
        "def oper_all(arr, oper = \"*\"):\n",
        "#your code here\n",
        "    if oper== \"+\":\n",
        "        return sum_all(arr)\n",
        "    elif oper == \"*\":\n",
        "        return mult_all(arr)\n",
        "    else:\n",
        "        return \"Operador incorrecto.\""
      ]
    },
    {
      "cell_type": "code",
      "execution_count": 25,
      "metadata": {
        "id": "EsAisefhKf7w",
        "colab": {
          "base_uri": "https://localhost:8080/"
        },
        "outputId": "db5bfe90-8e17-4eba-d8b8-f18ef3a6684c"
      },
      "outputs": [
        {
          "output_type": "stream",
          "name": "stderr",
          "text": [
            "....................................................................................................\n",
            "----------------------------------------------------------------------\n",
            "Ran 100 tests in 0.084s\n",
            "\n",
            "OK\n"
          ]
        }
      ],
      "source": [
        "# This will test your function\n",
        "test_operations(oper_all)"
      ]
    },
    {
      "cell_type": "markdown",
      "metadata": {
        "id": "TXNzMLyGKf7w"
      },
      "source": [
        "## 6. Write a function that returns the factorial of a number."
      ]
    },
    {
      "cell_type": "code",
      "execution_count": 26,
      "metadata": {
        "id": "Mlvm6yZ-Kf7w"
      },
      "outputs": [],
      "source": [
        "def factorial(n):\n",
        "#your code here\n",
        "    if n == 0:\n",
        "        return 1\n",
        "    else:\n",
        "        return n * factorial(n-1)"
      ]
    },
    {
      "cell_type": "code",
      "execution_count": 27,
      "metadata": {
        "id": "OeLlsZxHKf7w"
      },
      "outputs": [],
      "source": [
        "#factorial formula\n",
        "#n! = n * ( n - 1 ) *...*1\n",
        "\n",
        "# This code defines a function called \"factorial\" which takes an input \"n\". The function uses a for loop to iterate through the range of numbers\n",
        "# from 1 to n+1. For each number in that range, it multiplies the current value of x by the number in the range. At the end of the loop,\n",
        "# the function returns the final value of x, which will be the factorial of the input number \"n\".\n",
        "\n",
        "# The Factorial of a positive integer n is the product of all positive integers less than or equal to n.\n",
        "# For example, the factorial of 6 (written \"6!\") is 6 * 5 * 4 * 3 * 2 * 1 = 720.\n",
        "\n",
        "# So this function takes an input of any positive integer, and returns the factorial of that number."
      ]
    },
    {
      "cell_type": "code",
      "execution_count": 28,
      "metadata": {
        "id": "gxqM-UTPKf7w",
        "colab": {
          "base_uri": "https://localhost:8080/"
        },
        "outputId": "b1bbf752-1b59-4adb-ecf7-a329f9481776"
      },
      "outputs": [
        {
          "output_type": "stream",
          "name": "stderr",
          "text": [
            "....................................................................................................\n",
            "----------------------------------------------------------------------\n",
            "Ran 100 tests in 0.077s\n",
            "\n",
            "OK\n"
          ]
        }
      ],
      "source": [
        "# This will test your function\n",
        "test_factorial(factorial)"
      ]
    },
    {
      "cell_type": "markdown",
      "metadata": {
        "id": "_1gSTQxBKf7w"
      },
      "source": [
        "## 7. Write a function that takes a list and returns a list of the unique values.\n",
        "\n",
        "`NOTE: You cannot use set. 🤔`"
      ]
    },
    {
      "cell_type": "code",
      "execution_count": 30,
      "metadata": {
        "id": "6-oHj74cKf7w"
      },
      "outputs": [],
      "source": [
        "def unique(lst_un):\n",
        "#your code here\n",
        "    unique_list = []\n",
        "    for x in lst_un:\n",
        "        if x not in unique_list:\n",
        "            unique_list.append(x)\n",
        "    return unique_list"
      ]
    },
    {
      "cell_type": "code",
      "execution_count": 31,
      "metadata": {
        "id": "eS1c6ieQKf7w",
        "colab": {
          "base_uri": "https://localhost:8080/"
        },
        "outputId": "634a985d-97eb-4d65-f9bf-12ccf77147c8"
      },
      "outputs": [
        {
          "output_type": "stream",
          "name": "stderr",
          "text": [
            "....................................................................................................\n",
            "----------------------------------------------------------------------\n",
            "Ran 100 tests in 0.184s\n",
            "\n",
            "OK\n"
          ]
        }
      ],
      "source": [
        "# This will test your function\n",
        "test_unique(unique)"
      ]
    },
    {
      "cell_type": "markdown",
      "metadata": {
        "id": "QmuFzeVvKf7w"
      },
      "source": [
        "## 8. Write a function that returns the mode of a list, i.e.: the element that appears the most times.\n",
        "`NOTE: You should not use count... 🧐`"
      ]
    },
    {
      "cell_type": "code",
      "execution_count": 36,
      "metadata": {
        "id": "cqS3CSADKf7w"
      },
      "outputs": [],
      "source": [
        "def mode_counter(arr):\n",
        "#your code here\n",
        "\n",
        "    # Calcula la frecuencia de aparición de cada elemento\n",
        "    frecuencias = {}\n",
        "    for elemento in arr:\n",
        "        if elemento in frecuencias:\n",
        "            frecuencias[elemento] += 1\n",
        "        else:\n",
        "            frecuencias[elemento] = 1\n",
        "\n",
        "    # Encontrar el elemento con mayor frecuencia\n",
        "    moda = None\n",
        "    max_frecuencia = 0\n",
        "    for elemento, frecuencia in frecuencias.items():\n",
        "        if frecuencia > max_frecuencia:\n",
        "            max_frecuencia = frecuencia\n",
        "            moda = elemento\n",
        "    return moda\n"
      ]
    },
    {
      "cell_type": "code",
      "execution_count": 37,
      "metadata": {
        "id": "F3iuWu3QKf7w",
        "colab": {
          "base_uri": "https://localhost:8080/"
        },
        "outputId": "d3fad6fb-1cb0-47ed-ce34-b449e4d2c5f0"
      },
      "outputs": [
        {
          "output_type": "stream",
          "name": "stderr",
          "text": [
            "....................................................................................................\n",
            "----------------------------------------------------------------------\n",
            "Ran 100 tests in 0.080s\n",
            "\n",
            "OK\n"
          ]
        }
      ],
      "source": [
        "# This will test your function\n",
        "test_mode(mode_counter)"
      ]
    },
    {
      "cell_type": "markdown",
      "metadata": {
        "id": "2pounKPvKf7w"
      },
      "source": [
        "## 9. Write a function that calculates the standard deviation of a list.\n",
        "`NOTE: Do not use any libraries or already built functions. 😉`"
      ]
    },
    {
      "cell_type": "code",
      "source": [
        "import numpy as np\n"
      ],
      "metadata": {
        "id": "Oxnwi8TrahCY"
      },
      "execution_count": 51,
      "outputs": []
    },
    {
      "cell_type": "code",
      "execution_count": 69,
      "metadata": {
        "id": "yUwh4wl1Kf7w"
      },
      "outputs": [],
      "source": [
        "def st_dev(list_sd):\n",
        "#your code here\n",
        "\n",
        "    # Step 1: calculate the mean\n",
        "    n = len(list_sd)\n",
        "    mean = sum(list_sd) / n\n",
        "\n",
        "    # Step 2: calculate the sum of squared differences\n",
        "    squared_diff_sum = 0\n",
        "    for x in list_sd:\n",
        "        squared_diff_sum += (x - mean) ** 2\n",
        "\n",
        "    # Step 3: calculate variance (using population formula)\n",
        "    variance = squared_diff_sum / (n - 1)\n",
        "\n",
        "    # Step 4: take the square root manually (without math.sqrt)\n",
        "    # We'll use the exponent operator\n",
        "    std_dev = variance ** 0.5\n",
        "\n",
        "    return std_dev\n",
        ""
      ]
    },
    {
      "cell_type": "code",
      "execution_count": 70,
      "metadata": {
        "id": "rHxzpTfBKf7w",
        "colab": {
          "base_uri": "https://localhost:8080/"
        },
        "outputId": "52ff832e-3bfe-44d7-a743-d4c270f7d972"
      },
      "outputs": [
        {
          "output_type": "stream",
          "name": "stderr",
          "text": [
            "....................................................................................................\n",
            "----------------------------------------------------------------------\n",
            "Ran 100 tests in 0.077s\n",
            "\n",
            "OK\n"
          ]
        }
      ],
      "source": [
        "# This will test your function\n",
        "test_stdev(st_dev)"
      ]
    },
    {
      "cell_type": "markdown",
      "metadata": {
        "id": "6CzPWSxHKf7x"
      },
      "source": [
        "## 10. Write a function to check if a string is a pangram, i.e.: if it contains all the letters of the alphabet at least once. Mind that the strings may contain characters that are not letters."
      ]
    },
    {
      "cell_type": "code",
      "execution_count": 44,
      "metadata": {
        "id": "PZMmO4hVKf7x"
      },
      "outputs": [],
      "source": [
        "def pangram(string):\n",
        "#your code here\n",
        "\n",
        "    # Convert to lowercase to handle case-insensitivity\n",
        "    string = string.lower()\n",
        "\n",
        "    # Create a set to store letters found\n",
        "    letters_found = set()\n",
        "\n",
        "    for char in string:\n",
        "        if 'a' <= char <= 'z':  # check if it's a lowercase letter\n",
        "            letters_found.add(char)\n",
        "\n",
        "    # A pangram must contain all 26 letters\n",
        "    return len(letters_found) == 26\n"
      ]
    },
    {
      "cell_type": "code",
      "execution_count": 45,
      "metadata": {
        "id": "sEz_AQUqKf7x",
        "colab": {
          "base_uri": "https://localhost:8080/"
        },
        "outputId": "6b11a9e3-3191-4c46-8961-3400911a72d5"
      },
      "outputs": [
        {
          "output_type": "stream",
          "name": "stderr",
          "text": [
            "..............................\n",
            "----------------------------------------------------------------------\n",
            "Ran 30 tests in 0.027s\n",
            "\n",
            "OK\n"
          ]
        }
      ],
      "source": [
        "# This will test your function\n",
        "test_pangram(pangram)"
      ]
    },
    {
      "cell_type": "markdown",
      "metadata": {
        "id": "PwHM2VP9Kf7x"
      },
      "source": [
        "## 11. Write a function that receives a string of comma separated words and returns a string of comma separated words sorted alphabetically.\n",
        "\n",
        "`NOTE: You may use sorted but not split and definitely no join! 🤪`"
      ]
    },
    {
      "cell_type": "code",
      "execution_count": 63,
      "metadata": {
        "id": "UzsrlABPKf7x"
      },
      "outputs": [],
      "source": [
        "def sort_alpha(string):\n",
        "#your code here\n",
        "\n",
        "    # --- Step 1: manually split into words (no split!)\n",
        "    words = []\n",
        "    word = ''\n",
        "    for char in string:\n",
        "        if char == ',':\n",
        "            words.append(word)\n",
        "            word = ''\n",
        "        else:\n",
        "            word += char\n",
        "    words.append(word)  # add the last word\n",
        "\n",
        "    # --- Step 2: sort alphabetically\n",
        "    words = sorted(words)\n",
        "\n",
        "    # --- Step 3: manually join with commas (no join!)\n",
        "    result = ''\n",
        "    for i in range(len(words)):\n",
        "        result += words[i]\n",
        "        if i < len(words) - 1:\n",
        "            result += ','\n",
        "\n",
        "    return result\n",
        "\n"
      ]
    },
    {
      "cell_type": "code",
      "execution_count": 64,
      "metadata": {
        "id": "0J1TcPiHKf7x",
        "colab": {
          "base_uri": "https://localhost:8080/"
        },
        "outputId": "5c62b25c-42b9-4077-bb67-1c065ac0327d"
      },
      "outputs": [
        {
          "output_type": "stream",
          "name": "stderr",
          "text": [
            "....................................................................................................\n",
            "----------------------------------------------------------------------\n",
            "Ran 100 tests in 0.091s\n",
            "\n",
            "OK\n"
          ]
        }
      ],
      "source": [
        "# This will test your function\n",
        "test_alpha(sort_alpha)"
      ]
    },
    {
      "cell_type": "markdown",
      "metadata": {
        "id": "Za5ZlufvKf7x"
      },
      "source": [
        "## 12. Write a function to check if a given password is strong (at least 8 characters, at least one lower case, at least one upper case, at least one number and at least one special character). It should output True if strong and False if not."
      ]
    },
    {
      "cell_type": "code",
      "execution_count": 65,
      "metadata": {
        "id": "lwll-XGyKf7y"
      },
      "outputs": [],
      "source": [
        "def check_pass(password):\n",
        "#your code here\n",
        "    if len(password) < 8:\n",
        "        return False\n",
        "\n",
        "    has_lower = False\n",
        "    has_upper = False\n",
        "    has_digit = False\n",
        "    has_special = False\n",
        "\n",
        "    for ch in password:\n",
        "        if 'a' <= ch <= 'z':\n",
        "            has_lower = True\n",
        "        elif 'A' <= ch <= 'Z':\n",
        "            has_upper = True\n",
        "        elif '0' <= ch <= '9':\n",
        "            has_digit = True\n",
        "        else:\n",
        "            has_special = True\n",
        "\n",
        "    return has_lower and has_upper and has_digit and has_special\n"
      ]
    },
    {
      "cell_type": "code",
      "execution_count": 66,
      "metadata": {
        "id": "zJNduV0KKf7y",
        "colab": {
          "base_uri": "https://localhost:8080/"
        },
        "outputId": "872767b6-7941-49b1-bb4f-04fd1a942d96"
      },
      "outputs": [
        {
          "output_type": "stream",
          "name": "stderr",
          "text": [
            "....................................................................................................\n",
            "----------------------------------------------------------------------\n",
            "Ran 100 tests in 0.088s\n",
            "\n",
            "OK\n"
          ]
        }
      ],
      "source": [
        "# This will test your function\n",
        "test_pass(check_pass)"
      ]
    }
  ],
  "metadata": {
    "kernelspec": {
      "display_name": "Python 3 (ipykernel)",
      "language": "python",
      "name": "python3"
    },
    "language_info": {
      "codemirror_mode": {
        "name": "ipython",
        "version": 3
      },
      "file_extension": ".py",
      "mimetype": "text/x-python",
      "name": "python",
      "nbconvert_exporter": "python",
      "pygments_lexer": "ipython3",
      "version": "3.9.13"
    },
    "vscode": {
      "interpreter": {
        "hash": "aee8b7b246df8f9039afb4144a1f6fd8d2ca17a180786b69acc140d282b71a49"
      }
    },
    "colab": {
      "provenance": []
    }
  },
  "nbformat": 4,
  "nbformat_minor": 0
}