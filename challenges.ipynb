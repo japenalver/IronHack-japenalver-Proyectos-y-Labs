{
  "cells": [
    {
      "cell_type": "markdown",
      "source": [
        "## Alumno: *Juan Alberto Peñalver Alvarez*"
      ],
      "metadata": {
        "id": "70hD0ToIvUVi"
      }
    },
    {
      "cell_type": "markdown",
      "metadata": {
        "id": "JoGMfA-6Znmf"
      },
      "source": [
        "## Challenge 1: Tuples\n",
        "\n",
        "#### Do you know you can create tuples with only one element?\n",
        "\n",
        "**In the cell below, define a variable `tup` with a single element `\"I\"`.**\n"
      ]
    },
    {
      "cell_type": "code",
      "execution_count": 1,
      "metadata": {
        "id": "1jbIcMXSZnmg",
        "colab": {
          "base_uri": "https://localhost:8080/"
        },
        "outputId": "02af87b3-e513-4962-f544-8c6fc694a17d"
      },
      "outputs": [
        {
          "output_type": "execute_result",
          "data": {
            "text/plain": [
              "('I',)"
            ]
          },
          "metadata": {},
          "execution_count": 1
        }
      ],
      "source": [
        "# Your code here\n",
        "tup = ( \"I\", )\n",
        "tup"
      ]
    },
    {
      "cell_type": "markdown",
      "metadata": {
        "id": "srfS66_ZZnmh"
      },
      "source": [
        "#### Print the type of `tup`.\n",
        "\n",
        "Make sure its type is correct (i.e. *tuple* instead of *str*)."
      ]
    },
    {
      "cell_type": "code",
      "execution_count": 5,
      "metadata": {
        "id": "jMzFCDjbZnmh",
        "colab": {
          "base_uri": "https://localhost:8080/"
        },
        "outputId": "f7a22ba1-03f8-4ec4-df22-3c7c7e9a86e9"
      },
      "outputs": [
        {
          "output_type": "stream",
          "name": "stdout",
          "text": [
            "<class 'tuple'>\n"
          ]
        }
      ],
      "source": [
        "# Your code here\n",
        "print(type(tup))"
      ]
    },
    {
      "cell_type": "markdown",
      "metadata": {
        "id": "mwV5ysE1Znmh"
      },
      "source": [
        "#### Now try to append the following elements to `tup`.\n",
        "\n",
        "Are you able to do it? Explain.\n",
        "\n",
        "```\n",
        "\"r\", \"o\", \"n\", \"h\", \"a\", \"c\", \"k',\n",
        "```"
      ]
    },
    {
      "cell_type": "code",
      "execution_count": 6,
      "metadata": {
        "scrolled": true,
        "id": "gaTfUcGVZnmh",
        "colab": {
          "base_uri": "https://localhost:8080/"
        },
        "outputId": "6c4ab3ce-fe37-4ad9-8ccc-dba5dd17c27a"
      },
      "outputs": [
        {
          "output_type": "stream",
          "name": "stdout",
          "text": [
            "<class 'tuple'>\n",
            "['I', 'r', 'o', 'n', 'h', 'a', 'c', 'k']\n",
            "<class 'list'>\n",
            "['I', 'r', 'o', 'n', 'h', 'a', 'c', 'k', 'r']\n",
            "['I', 'r', 'o', 'n', 'h', 'a', 'c', 'k', 'r', 'o']\n",
            "['I', 'r', 'o', 'n', 'h', 'a', 'c', 'k', 'r', 'o', 'n']\n",
            "['I', 'r', 'o', 'n', 'h', 'a', 'c', 'k', 'r', 'o', 'n', 'h']\n",
            "['I', 'r', 'o', 'n', 'h', 'a', 'c', 'k', 'r', 'o', 'n', 'h', 'a']\n",
            "['I', 'r', 'o', 'n', 'h', 'a', 'c', 'k', 'r', 'o', 'n', 'h', 'a', 'c']\n",
            "<class 'list'>\n",
            "('I', 'r', 'o', 'n', 'h', 'a', 'c', 'k', 'r', 'o', 'n', 'h', 'a', 'c', 'k')\n",
            "<class 'tuple'>\n"
          ]
        }
      ],
      "source": [
        "# Your code here\n",
        "lista = []\n",
        "print(type(tup))\n",
        "lista = list(tup)\n",
        "print(lista)\n",
        "print(type(lista))\n",
        "lista = lista + [\"r\"]\n",
        "print(lista)\n",
        "lista = lista + [\"o\"]\n",
        "print(lista)\n",
        "lista = lista + [\"n\"]\n",
        "print(lista)\n",
        "lista = lista + [\"h\"]\n",
        "print(lista)\n",
        "lista = lista + [\"a\"]\n",
        "print(lista)\n",
        "lista = lista + [\"c\"]\n",
        "print(lista)\n",
        "lista = lista + [\"k\"]\n",
        "print(type(lista))\n",
        "tup = tuple(lista)\n",
        "print(tup)\n",
        "print(type(tup))\n",
        "# Your explanation here\n",
        "# You can :)\n",
        "\n",
        "# No se pueden añadir elementos directamente a una tupla en Python porque las tuplas son inmutables.\n",
        "# Sin embargo, para simular esta acción, puedes convertir la tupla en una lista, añadir el elemento\n",
        "# a esa lista y luego convertir la lista de nuevo a una tupla."
      ]
    },
    {
      "cell_type": "markdown",
      "metadata": {
        "id": "KlcffnU6Znmh"
      },
      "source": [
        "#### How about re-assign a new value to an existing tuple?\n",
        "\n",
        "Re-assign the following elements to `tup`. Are you able to do it? Explain.\n",
        "\n",
        "```\n",
        "\"I\", \"r\", \"o\", \"n\", \"h\", \"a\", \"c\", \"k\"\n",
        "```"
      ]
    },
    {
      "cell_type": "code",
      "execution_count": 8,
      "metadata": {
        "id": "MdxPUnyeZnmh",
        "colab": {
          "base_uri": "https://localhost:8080/"
        },
        "outputId": "f6028650-c263-4a2c-ee8d-cc30c8fa0391"
      },
      "outputs": [
        {
          "output_type": "stream",
          "name": "stdout",
          "text": [
            "('I', 'r', 'o', 'n', 'h', 'a', 'c', 'k', 'r', 'o', 'n', 'h', 'a', 'c', 'k')\n"
          ]
        }
      ],
      "source": [
        "# Your code here\n",
        "lista2 = list(tup)\n",
        "lista2.remove(\"I\")\n",
        "lista2 =[\"I\"] + lista2\n",
        "tup = tuple(lista2)\n",
        "print(tup)\n",
        "# Igual que antes, se transforma la tupla en una lista, se elimina el primer elemento y se junta con el otro elemento\n",
        "# en primer lugar, para luego transforma la lista en la tupla"
      ]
    },
    {
      "cell_type": "markdown",
      "metadata": {
        "id": "T9fmnHnsZnmh"
      },
      "source": [
        "#### Split `tup` into `tup1` and `tup2` with 4 elements in each.\n",
        "\n",
        "`tup1` should be `(\"I\", \"r\", \"o\", \"n\")` and `tup2` should be `(\"h\", \"a\", \"c\", \"k\")`.\n",
        "\n",
        "*Hint: use positive index numbers for `tup1` assignment and use negative index numbers for `tup2` assignment. Positive index numbers count from the beginning whereas negative index numbers count from the end of the sequence.*\n",
        "\n",
        "Also print `tup1` and `tup2`."
      ]
    },
    {
      "cell_type": "code",
      "execution_count": 9,
      "metadata": {
        "id": "tsO8VX6gZnmi",
        "colab": {
          "base_uri": "https://localhost:8080/"
        },
        "outputId": "1b66c08e-9324-41c5-c914-f2614552b29c"
      },
      "outputs": [
        {
          "output_type": "stream",
          "name": "stdout",
          "text": [
            "('I', 'r', 'o', 'n')\n",
            "('h', 'a', 'c', 'k')\n"
          ]
        }
      ],
      "source": [
        "from posixpath import split\n",
        "# Your code here\n",
        "tup1 = tup[0:4]\n",
        "tup2 = tup[-4:]\n",
        "\n",
        "print(tup1)\n",
        "print(tup2)"
      ]
    },
    {
      "cell_type": "markdown",
      "metadata": {
        "id": "2lRV-eA3Znmi"
      },
      "source": [
        "#### Add `tup1` and `tup2` into `tup3` using the `+` operator.\n",
        "\n",
        "Then print `tup3` and check if `tup3` equals to `tup`."
      ]
    },
    {
      "cell_type": "code",
      "execution_count": 10,
      "metadata": {
        "id": "UpubHK4WZnmi",
        "colab": {
          "base_uri": "https://localhost:8080/"
        },
        "outputId": "42ef739d-df35-4b81-e96a-3a5d108ac63d"
      },
      "outputs": [
        {
          "output_type": "stream",
          "name": "stdout",
          "text": [
            "('I', 'r', 'o', 'n', 'h', 'a', 'c', 'k')\n",
            "<class 'tuple'>\n",
            "False\n"
          ]
        }
      ],
      "source": [
        "# Your code here\n",
        "tup3 = tup1 + tup2\n",
        "print(tup3)\n",
        "print(type(tup3))\n",
        "print(tup3 == tup)"
      ]
    },
    {
      "cell_type": "markdown",
      "metadata": {
        "id": "uNn3kqDPZnmi"
      },
      "source": [
        "#### Count the number of elements in `tup1` and `tup2`. Then add the two counts together and check if the sum is the same as the number of elements in `tup3`."
      ]
    },
    {
      "cell_type": "code",
      "execution_count": 11,
      "metadata": {
        "id": "DQnuHMrbZnmi",
        "colab": {
          "base_uri": "https://localhost:8080/"
        },
        "outputId": "f3a7499e-ccb1-4352-f13e-42e5cce6239e"
      },
      "outputs": [
        {
          "output_type": "stream",
          "name": "stdout",
          "text": [
            "4\n",
            "4\n",
            "8\n",
            "True\n"
          ]
        }
      ],
      "source": [
        "# Your code here\n",
        "conta1 = len(tup1)\n",
        "conta2 = len(tup2)\n",
        "conta3 = len(tup3)\n",
        "\n",
        "suma = conta1 +  conta2\n",
        "\n",
        "print(conta1)\n",
        "print(conta2)\n",
        "print(conta3)\n",
        "print(suma == conta3)"
      ]
    },
    {
      "cell_type": "markdown",
      "metadata": {
        "id": "ymE41q7AZnmi"
      },
      "source": [
        "#### What is the index number of `\"h\"` in `tup3`?"
      ]
    },
    {
      "cell_type": "code",
      "execution_count": 12,
      "metadata": {
        "id": "wF8VfOOXZnmi",
        "colab": {
          "base_uri": "https://localhost:8080/"
        },
        "outputId": "362690ab-d4be-49e7-b92f-3e726fad64c7"
      },
      "outputs": [
        {
          "output_type": "stream",
          "name": "stdout",
          "text": [
            "4\n"
          ]
        }
      ],
      "source": [
        "# Your code here\n",
        "number = tup3.index('h')\n",
        "print(number)"
      ]
    },
    {
      "cell_type": "markdown",
      "metadata": {
        "id": "TEjMMp1oZnmj"
      },
      "source": [
        "#### Now, use a FOR loop to check whether each letter in the following list is present in `tup3`:\n",
        "\n",
        "```\n",
        "letters = [\"a\", \"b\", \"c\", \"d\", \"e\"]\n",
        "```\n",
        "\n",
        "For each letter you check, print `True` if it is present in `tup3` otherwise print `False`.\n",
        "\n",
        "*Hint: you only need to loop `letters`. You don't need to loop `tup3` because there is a Python operator `in` you can use. See [reference](https://stackoverflow.com/questions/17920147/how-to-check-if-a-tuple-contains-an-element-in-python).*"
      ]
    },
    {
      "cell_type": "code",
      "execution_count": 13,
      "metadata": {
        "id": "x-P_4SBEZnmj",
        "colab": {
          "base_uri": "https://localhost:8080/"
        },
        "outputId": "d8354c9a-1b68-4cb1-9243-53a99da9115c"
      },
      "outputs": [
        {
          "output_type": "stream",
          "name": "stdout",
          "text": [
            "a  --> True\n",
            "e  --> False\n",
            "i  --> False\n",
            "o  --> True\n",
            "u  --> False\n",
            "A  --> False\n",
            "E  --> False\n",
            "I  --> True\n",
            "O  --> False\n",
            "U  --> False\n"
          ]
        }
      ],
      "source": [
        "# Your code here\n",
        "\n",
        "letters = [ \"a\", \"e\", \"i\", \"o\", \"u\", \"A\", \"E\", \"I\", \"O\", \"U\" ]\n",
        "\n",
        "for letter in letters:\n",
        "    if letter in tup3:\n",
        "        print(letter, \" --> True\")\n",
        "    else:\n",
        "        print(letter, \" --> False\")"
      ]
    },
    {
      "cell_type": "code",
      "execution_count": null,
      "metadata": {
        "id": "jcObMTFjZnmj"
      },
      "outputs": [],
      "source": [
        "# Your code here"
      ]
    },
    {
      "cell_type": "markdown",
      "metadata": {
        "id": "vZ1XzxNfZnmj"
      },
      "source": [
        "#### How many times does each letter in `letters` appear in `tup3`?\n",
        "\n",
        "Print out the number of occurrence of each letter."
      ]
    },
    {
      "cell_type": "code",
      "execution_count": 14,
      "metadata": {
        "id": "SxOPsMvlZnmj",
        "colab": {
          "base_uri": "https://localhost:8080/"
        },
        "outputId": "503495a3-eee1-4590-d036-5824ba30dc09"
      },
      "outputs": [
        {
          "output_type": "stream",
          "name": "stdout",
          "text": [
            "a --> 1\n",
            "e --> 0\n",
            "i --> 0\n",
            "o --> 1\n",
            "u --> 0\n",
            "A --> 0\n",
            "E --> 0\n",
            "I --> 1\n",
            "O --> 0\n",
            "U --> 0\n"
          ]
        }
      ],
      "source": [
        "# Your code here\n",
        "\n",
        "for letter in letters:\n",
        "    count = tup3.count(letter)\n",
        "    print(f\"{letter} --> {count}\")"
      ]
    },
    {
      "cell_type": "markdown",
      "metadata": {
        "id": "hY8EuUI7Znmj"
      },
      "source": [
        "## Challenge 2: Sets\n",
        "\n",
        "There are a lot to learn about Python Sets and the information presented in the lesson is limited due to its length. To learn Python Sets in depth you are strongly encouraged to review the W3Schools tutorial on [Python Sets Examples and Methods](https://www.w3schools.com/python/python_sets.asp) before you work on this lab. Some difficult questions in this lab have their solutions in the W3Schools tutorial.\n",
        "\n",
        "#### First, import the Python `random` library."
      ]
    },
    {
      "cell_type": "code",
      "execution_count": 15,
      "metadata": {
        "id": "wuumQ44yZnmj"
      },
      "outputs": [],
      "source": [
        "import random"
      ]
    },
    {
      "cell_type": "markdown",
      "metadata": {
        "id": "Or94FS6EZnmj"
      },
      "source": [
        "#### In the cell below, create a list named `sample_list_1` with 80 random values.\n",
        "\n",
        "Requirements:\n",
        "\n",
        "* Each value is an integer falling between 0 and 100.\n",
        "* Each value in the list is unique.\n",
        "\n",
        "Print `sample_list_1` to review its values\n",
        "\n",
        "*Hint: use `random.sample` ([reference](https://docs.python.org/3/library/random.html#random.sample)).*"
      ]
    },
    {
      "cell_type": "code",
      "execution_count": 16,
      "metadata": {
        "id": "RqIKl4VWZnmj",
        "colab": {
          "base_uri": "https://localhost:8080/"
        },
        "outputId": "8128b5b8-383e-4712-b470-ff947e9cd38b"
      },
      "outputs": [
        {
          "output_type": "stream",
          "name": "stdout",
          "text": [
            "[27, 47, 87, 7, 94, 80, 49, 96, 26, 1, 40, 42, 52, 66, 2, 16, 17, 97, 74, 85, 81, 4, 88, 30, 98, 32, 69, 75, 38, 59, 33, 63, 0, 70, 93, 24, 77, 9, 36, 41, 8, 99, 37, 44, 100, 20, 51, 13, 23, 90, 39, 22, 11, 56, 92, 83, 5, 25, 12, 76, 78, 57, 79, 19, 6, 46, 28, 43, 82, 64, 48, 21, 3, 73, 68, 91, 15, 29, 50, 35]\n",
            "Cantidad de valores: 80\n"
          ]
        }
      ],
      "source": [
        "# Your code here\n",
        "\n",
        "sample_list_1 = random.sample(range(0,101), 80)\n",
        "\n",
        "print(sample_list_1)\n",
        "print(\"Cantidad de valores:\", len(sample_list_1))"
      ]
    },
    {
      "cell_type": "markdown",
      "metadata": {
        "id": "wBvZd0lHZnmj"
      },
      "source": [
        "#### Convert `sample_list_1` to a set called `set1`. Print the length of the set. Is its length still 80?"
      ]
    },
    {
      "cell_type": "code",
      "execution_count": 17,
      "metadata": {
        "id": "1S9qa5X3Znmj",
        "colab": {
          "base_uri": "https://localhost:8080/"
        },
        "outputId": "a7541f0a-a5e7-44e7-ed62-4f9ca452c5ca"
      },
      "outputs": [
        {
          "output_type": "stream",
          "name": "stdout",
          "text": [
            "set1:  {0, 1, 2, 3, 4, 5, 6, 7, 8, 9, 11, 12, 13, 15, 16, 17, 19, 20, 21, 22, 23, 24, 25, 26, 27, 28, 29, 30, 32, 33, 35, 36, 37, 38, 39, 40, 41, 42, 43, 44, 46, 47, 48, 49, 50, 51, 52, 56, 57, 59, 63, 64, 66, 68, 69, 70, 73, 74, 75, 76, 77, 78, 79, 80, 81, 82, 83, 85, 87, 88, 90, 91, 92, 93, 94, 96, 97, 98, 99, 100}\n",
            " de set1:  80\n"
          ]
        }
      ],
      "source": [
        "# your code here\n",
        "\n",
        "set1 = set(sample_list_1)\n",
        "\n",
        "print(\"set1: \", set1)\n",
        "print(\" de set1: \", len(set1))"
      ]
    },
    {
      "cell_type": "markdown",
      "metadata": {
        "id": "Zc-EJr_gZnmj"
      },
      "source": [
        "#### Create another list named `sample_list_2` with 80 random values.\n",
        "\n",
        "Requirements:\n",
        "\n",
        "* Each value is an integer falling between 0 and 100.\n",
        "* The values in the list don't have to be unique.\n",
        "\n",
        "*Hint: Use a FOR loop.*"
      ]
    },
    {
      "cell_type": "code",
      "execution_count": 18,
      "metadata": {
        "id": "xzrNPlQ8Znmj",
        "colab": {
          "base_uri": "https://localhost:8080/"
        },
        "outputId": "c0797e87-ad68-42d4-ff93-fc1fc5e5c0c7"
      },
      "outputs": [
        {
          "output_type": "stream",
          "name": "stdout",
          "text": [
            "[32, 79, 93, 50, 8, 97, 58, 27, 3, 25, 67, 78, 42, 68, 2, 71, 50, 66, 22, 23, 39, 75, 41, 13, 93, 57, 47, 97, 21, 56, 70, 83, 48, 6, 3, 35, 43, 46, 74, 4, 80, 12, 5, 20, 77, 37, 24, 77, 16, 55, 97, 65, 9, 11, 58, 1, 28, 18, 89, 55, 79, 50, 67, 33, 71, 33, 93, 49, 22, 66, 92, 35, 91, 65, 68, 55, 90, 43, 51, 89]\n",
            "Cantidad de valores:  80\n"
          ]
        }
      ],
      "source": [
        "# your code here\n",
        "\n",
        "sample_list_2 = []\n",
        "\n",
        "for _ in range(80):\n",
        "    sample_list_2.append(random.randint(0,100))\n",
        "\n",
        "print(sample_list_2)\n",
        "print(\"Cantidad de valores: \", len(sample_list_2))"
      ]
    },
    {
      "cell_type": "markdown",
      "metadata": {
        "id": "3FM5oThGZnmj"
      },
      "source": [
        "#### Convert `sample_list_2` to a set called `set2`. Print the length of the set. Is its length still 80?"
      ]
    },
    {
      "cell_type": "code",
      "execution_count": 19,
      "metadata": {
        "id": "5uA00jBlZnmj",
        "colab": {
          "base_uri": "https://localhost:8080/"
        },
        "outputId": "6aa86e45-732b-4cf6-eb91-09571e525e72"
      },
      "outputs": [
        {
          "output_type": "stream",
          "name": "stdout",
          "text": [
            "set2:  {1, 2, 3, 4, 5, 6, 8, 9, 11, 12, 13, 16, 18, 20, 21, 22, 23, 24, 25, 27, 28, 32, 33, 35, 37, 39, 41, 42, 43, 46, 47, 48, 49, 50, 51, 55, 56, 57, 58, 65, 66, 67, 68, 70, 71, 74, 75, 77, 78, 79, 80, 83, 89, 90, 91, 92, 93, 97}\n",
            "Longitud de set2:  58\n"
          ]
        }
      ],
      "source": [
        "# Your code here\n",
        "\n",
        "set2 = set(sample_list_2)\n",
        "\n",
        "print(\"set2: \", set2)\n",
        "print(\"Longitud de set2: \", len(set2))"
      ]
    },
    {
      "cell_type": "markdown",
      "metadata": {
        "id": "YcGNFKrTZnmj"
      },
      "source": [
        "#### Identify the elements present in `set1` but not in `set2`. Assign the elements to a new set named `set3`."
      ]
    },
    {
      "cell_type": "code",
      "execution_count": 20,
      "metadata": {
        "id": "R8OYSmHaZnmj",
        "colab": {
          "base_uri": "https://localhost:8080/"
        },
        "outputId": "b671b10b-f53c-4bb5-dcef-54c33b7bf4f5"
      },
      "outputs": [
        {
          "output_type": "stream",
          "name": "stdout",
          "text": [
            "set3:  {0, 7, 15, 17, 19, 26, 29, 30, 36, 38, 40, 44, 52, 59, 63, 64, 69, 73, 76, 81, 82, 85, 87, 88, 94, 96, 98, 99, 100}\n",
            "Cantidad de elementos en set3:  29\n"
          ]
        }
      ],
      "source": [
        "# Your code here\n",
        "\n",
        "set3 = set1 - set2 # set1.difference(set2)\n",
        "\n",
        "print(\"set3: \", set3)\n",
        "print(\"Cantidad de elementos en set3: \", len(set3))"
      ]
    },
    {
      "cell_type": "markdown",
      "metadata": {
        "id": "tLwb4uRRZnmk"
      },
      "source": [
        "#### Identify the elements present in `set2` but not in `set1`. Assign the elements to a new set named `set4`."
      ]
    },
    {
      "cell_type": "code",
      "execution_count": 21,
      "metadata": {
        "id": "Hhd9C5GDZnmk",
        "colab": {
          "base_uri": "https://localhost:8080/"
        },
        "outputId": "c7a0006a-09ed-426a-8fd8-360dc5c72359"
      },
      "outputs": [
        {
          "output_type": "stream",
          "name": "stdout",
          "text": [
            "set4:  {65, 67, 71, 18, 55, 89, 58}\n",
            "Cantidad de elementos en set4:  7\n"
          ]
        }
      ],
      "source": [
        "# Your code here\n",
        "\n",
        "set4 = set2 - set1 #set4 = set2.difference(set1)\n",
        "\n",
        "print(\"set4: \", set4)\n",
        "print(\"Cantidad de elementos en set4: \", len(set4))"
      ]
    },
    {
      "cell_type": "markdown",
      "metadata": {
        "id": "WRqovS8RZnmk"
      },
      "source": [
        "#### Now Identify the elements shared between `set1` and `set2`. Assign the elements to a new set named `set5`."
      ]
    },
    {
      "cell_type": "code",
      "execution_count": 22,
      "metadata": {
        "id": "QTMNo-b9Znmk",
        "colab": {
          "base_uri": "https://localhost:8080/"
        },
        "outputId": "c4cf1386-1040-41e3-8569-a84d0a6ed915"
      },
      "outputs": [
        {
          "output_type": "stream",
          "name": "stdout",
          "text": [
            "set5:  {1, 2, 3, 4, 5, 6, 8, 9, 11, 12, 13, 16, 20, 21, 22, 23, 24, 25, 27, 28, 32, 33, 35, 37, 39, 41, 42, 43, 46, 47, 48, 49, 50, 51, 56, 57, 66, 68, 70, 74, 75, 77, 78, 79, 80, 83, 90, 91, 92, 93, 97}\n",
            "Cantidad de elementos en set5:  51\n"
          ]
        }
      ],
      "source": [
        "# Your code here\n",
        "\n",
        "set5 = set1 & set2 #set5 = set1.intersection(set2)\n",
        "\n",
        "print(\"set5: \", set5)\n",
        "print(\"Cantidad de elementos en set5: \", len(set5))"
      ]
    },
    {
      "cell_type": "markdown",
      "metadata": {
        "id": "PxKRtRdxZnmk"
      },
      "source": [
        "#### What is the relationship among the following values:\n",
        "\n",
        "* len(set1)\n",
        "* len(set2)\n",
        "* len(set3)\n",
        "* len(set4)\n",
        "* len(set5)\n",
        "\n",
        "Use a math formular to represent that relationship. Test your formular with Python code."
      ]
    },
    {
      "cell_type": "code",
      "execution_count": 23,
      "metadata": {
        "id": "5JGyuK1NZnmk",
        "colab": {
          "base_uri": "https://localhost:8080/"
        },
        "outputId": "119b23b3-4785-4507-ed1e-7455519ab376"
      },
      "outputs": [
        {
          "output_type": "stream",
          "name": "stdout",
          "text": [
            "¿ len(set1) == len(set3) + len(set5) ?  True\n",
            "¿ len(set2) == len(set4) + len(set5) ?  True\n"
          ]
        }
      ],
      "source": [
        "# Your code here\n",
        "\n",
        "#                | set1 | = | set3 | + | set5 |\n",
        "\n",
        "#                | set2 | = | set4 | + | set5 |\n",
        "\n",
        "# donde |X| representa el cardinal del conjunto o la cantidad de elementos del conjunto 0\n",
        "\n",
        "print(\"¿ len(set1) == len(set3) + len(set5) ? \", len(set1) == len(set3) + len(set5))\n",
        "print(\"¿ len(set2) == len(set4) + len(set5) ? \", len(set2) == len(set4) + len(set5))"
      ]
    },
    {
      "cell_type": "markdown",
      "metadata": {
        "id": "ualDTlllZnmk"
      },
      "source": [
        "#### Create an empty set called `set6`."
      ]
    },
    {
      "cell_type": "code",
      "execution_count": 24,
      "metadata": {
        "id": "75etPVfDZnml",
        "colab": {
          "base_uri": "https://localhost:8080/"
        },
        "outputId": "36ae4b0f-6da0-49c8-c089-c66274b4db9c"
      },
      "outputs": [
        {
          "output_type": "stream",
          "name": "stdout",
          "text": [
            "set6:  set()\n",
            "Tipo de set6:  <class 'set'>\n"
          ]
        }
      ],
      "source": [
        "# Your code here\n",
        "\n",
        "set6 = set()\n",
        "\n",
        "print(\"set6: \", set6)\n",
        "print(\"Tipo de set6: \", type(set6))"
      ]
    },
    {
      "cell_type": "markdown",
      "metadata": {
        "id": "t1BPYL5qZnml"
      },
      "source": [
        "#### Add `set3` and `set5` to `set6` using the Python Set `update` method."
      ]
    },
    {
      "cell_type": "code",
      "execution_count": 25,
      "metadata": {
        "id": "OLBjPLyZZnml",
        "colab": {
          "base_uri": "https://localhost:8080/"
        },
        "outputId": "8498bd02-788f-4c23-e927-95df8fa969be"
      },
      "outputs": [
        {
          "output_type": "stream",
          "name": "stdout",
          "text": [
            "set6:  {0, 1, 2, 3, 4, 5, 6, 7, 8, 9, 11, 12, 13, 15, 16, 17, 19, 20, 21, 22, 23, 24, 25, 26, 27, 28, 29, 30, 32, 33, 35, 36, 37, 38, 39, 40, 41, 42, 43, 44, 46, 47, 48, 49, 50, 51, 52, 56, 57, 59, 63, 64, 66, 68, 69, 70, 73, 74, 75, 76, 77, 78, 79, 80, 81, 82, 83, 85, 87, 88, 90, 91, 92, 93, 94, 96, 97, 98, 99, 100}\n",
            "Cantidad de elementos en set6:  80\n"
          ]
        }
      ],
      "source": [
        "# Your code here\n",
        "\n",
        "set6.update(set3, set5)\n",
        "\n",
        "print(\"set6: \", set6)\n",
        "print(\"Cantidad de elementos en set6: \", len(set6))"
      ]
    },
    {
      "cell_type": "markdown",
      "metadata": {
        "id": "kWgMhXB3Znml"
      },
      "source": [
        "#### Check if `set1` and `set6` are equal."
      ]
    },
    {
      "cell_type": "code",
      "execution_count": 26,
      "metadata": {
        "id": "Dav2BlhwZnml",
        "colab": {
          "base_uri": "https://localhost:8080/"
        },
        "outputId": "acbb7bd9-3d2a-4e37-87d1-681c1703f226"
      },
      "outputs": [
        {
          "output_type": "stream",
          "name": "stdout",
          "text": [
            "¿ set1 es igual que set6 ?  True\n"
          ]
        }
      ],
      "source": [
        "# Your code here\n",
        "\n",
        "print(\"¿ set1 es igual que set6 ? \", set1 == set6)"
      ]
    },
    {
      "cell_type": "markdown",
      "metadata": {
        "id": "1IiwH_ZdZnml"
      },
      "source": [
        "#### Check if `set1` contains `set2` using the Python Set `issubset` method. Then check if `set1` contains `set3`.*"
      ]
    },
    {
      "cell_type": "code",
      "execution_count": 27,
      "metadata": {
        "id": "KxdR28qKZnml",
        "colab": {
          "base_uri": "https://localhost:8080/"
        },
        "outputId": "d067d615-d374-4348-a854-888cfe627dac"
      },
      "outputs": [
        {
          "output_type": "stream",
          "name": "stdout",
          "text": [
            "¿ set1 contiene a set2 ?  False\n",
            "¿ set1 contiene a set3 ?  True\n"
          ]
        }
      ],
      "source": [
        "# Your code here\n",
        "\n",
        "print(\"¿ set1 contiene a set2 ? \", set2.issubset(set1))\n",
        "print(\"¿ set1 contiene a set3 ? \", set3.issubset(set1))"
      ]
    },
    {
      "cell_type": "markdown",
      "metadata": {
        "id": "mVYIO-FGZnml"
      },
      "source": [
        "#### Using the Python Set `union` method, aggregate `set3`, `set4`, and `set5`. Then aggregate `set1` and `set2`.\n",
        "\n",
        "#### Check if the aggregated values are equal."
      ]
    },
    {
      "cell_type": "code",
      "execution_count": 28,
      "metadata": {
        "id": "KFKbXxxXZnml",
        "colab": {
          "base_uri": "https://localhost:8080/"
        },
        "outputId": "6cba3ce8-e6a4-410f-843b-5ba1268be3eb"
      },
      "outputs": [
        {
          "output_type": "stream",
          "name": "stdout",
          "text": [
            "¿ set1 U set2 == set3 U set4 U set5 ?  True\n"
          ]
        }
      ],
      "source": [
        "# Your code here\n",
        "\n",
        "union1 = set1.union(set2)\n",
        "union2 = set3.union(set4, set5)\n",
        "\n",
        "print(\"¿ set1 U set2 == set3 U set4 U set5 ? \", union1 == union2)"
      ]
    },
    {
      "cell_type": "markdown",
      "metadata": {
        "id": "tzJ07I3bZnml"
      },
      "source": [
        "#### Using the `pop` method, remove the first element from `set1`."
      ]
    },
    {
      "cell_type": "code",
      "execution_count": 29,
      "metadata": {
        "id": "uQK6KYyVZnml",
        "colab": {
          "base_uri": "https://localhost:8080/"
        },
        "outputId": "bba70a02-9a22-49d8-f64a-d9d8a5690cb7"
      },
      "outputs": [
        {
          "output_type": "stream",
          "name": "stdout",
          "text": [
            "Elemento eliminado:  0\n",
            "set1 después de pop:  {1, 2, 3, 4, 5, 6, 7, 8, 9, 11, 12, 13, 15, 16, 17, 19, 20, 21, 22, 23, 24, 25, 26, 27, 28, 29, 30, 32, 33, 35, 36, 37, 38, 39, 40, 41, 42, 43, 44, 46, 47, 48, 49, 50, 51, 52, 56, 57, 59, 63, 64, 66, 68, 69, 70, 73, 74, 75, 76, 77, 78, 79, 80, 81, 82, 83, 85, 87, 88, 90, 91, 92, 93, 94, 96, 97, 98, 99, 100}\n",
            "Nueva longitud de set1:  79\n"
          ]
        }
      ],
      "source": [
        "# Your code here\n",
        "\n",
        "removed_element = set1.pop()\n",
        "\n",
        "print(\"Elemento eliminado: \", removed_element)\n",
        "print(\"set1 después de pop: \", set1)\n",
        "print(\"Nueva longitud de set1: \", len(set1))"
      ]
    },
    {
      "cell_type": "markdown",
      "metadata": {
        "id": "vni541QzZnml"
      },
      "source": [
        "#### Remove every element in the following list from `set1` if they are present in the set. Print the remaining elements.\n",
        "\n",
        "```\n",
        "list_to_remove = [1, 9, 11, 19, 21, 29, 31, 39, 41, 49, 51, 59, 61, 69, 71, 79, 81, 89, 91, 99]\n",
        "```"
      ]
    },
    {
      "cell_type": "code",
      "execution_count": 30,
      "metadata": {
        "id": "7XpSqKk7Znml",
        "colab": {
          "base_uri": "https://localhost:8080/"
        },
        "outputId": "26bbbbcb-39a9-4949-c001-ec9b4ac045d0"
      },
      "outputs": [
        {
          "output_type": "stream",
          "name": "stdout",
          "text": [
            "Elementos restantes en set1:  {2, 3, 4, 5, 6, 7, 8, 12, 13, 15, 16, 17, 20, 22, 23, 24, 25, 26, 27, 28, 30, 32, 33, 35, 36, 37, 38, 40, 42, 43, 44, 46, 47, 48, 50, 52, 56, 57, 63, 64, 66, 68, 70, 73, 74, 75, 76, 77, 78, 80, 82, 83, 85, 87, 88, 90, 92, 93, 94, 96, 97, 98, 100}\n",
            "Cantidad de elementos en set1:  63\n"
          ]
        }
      ],
      "source": [
        "# Your code here\n",
        "\n",
        "list_to_remove = [1, 9, 11, 19, 21, 29, 31, 39, 41, 49, 51, 59, 61, 69, 71, 79, 81, 89, 91, 99]\n",
        "\n",
        "for val in list_to_remove:\n",
        "    set1.discard(val)\n",
        "\n",
        "print(\"Elementos restantes en set1: \", set1)\n",
        "print(\"Cantidad de elementos en set1: \", len(set1))"
      ]
    },
    {
      "cell_type": "markdown",
      "metadata": {
        "id": "UTkRg0M3Znml"
      },
      "source": [
        "## BONUS - Challenge 3: Dictionaries\n",
        "\n",
        "In this challenge you will practice how to manipulate Python dictionaries. Before starting on this challenge, you are encouraged to review W3School's [Python Dictionary Examples and Methods](https://www.w3schools.com/python/python_dictionaries.asp).\n",
        "\n",
        "First thing you will practice is how to sort the keys in a dictionary. Unlike the list object, Python dictionary does not have a built-in *sort* method. You'll need to use FOR loops to to sort dictionaries either by key or by value.\n",
        "\n",
        "The dictionary below is a summary of the word frequency of Ed Sheeran's song *Shape of You*. Each key is a word in the lyrics and the value is the number of times that word appears in the lyrics."
      ]
    },
    {
      "cell_type": "code",
      "execution_count": null,
      "metadata": {
        "id": "kZyULdL9Znmm"
      },
      "outputs": [],
      "source": [
        "word_freq = {'love': 25, 'conversation': 1, 'every': 6, \"we're\": 1, 'plate': 1, 'sour': 1, 'jukebox': 1, 'now': 11, 'taxi': 1, 'fast': 1, 'bag': 1, 'man': 1, 'push': 3, 'baby': 14, 'going': 1, 'you': 16, \"don't\": 2, 'one': 1, 'mind': 2, 'backseat': 1, 'friends': 1, 'then': 3, 'know': 2, 'take': 1, 'play': 1, 'okay': 1, 'so': 2, 'begin': 1, 'start': 2, 'over': 1, 'body': 17, 'boy': 2, 'just': 1, 'we': 7, 'are': 1, 'girl': 2, 'tell': 1, 'singing': 2, 'drinking': 1, 'put': 3, 'our': 1, 'where': 1, \"i'll\": 1, 'all': 1, \"isn't\": 1, 'make': 1, 'lover': 1, 'get': 1, 'radio': 1, 'give': 1, \"i'm\": 23, 'like': 10, 'can': 1, 'doing': 2, 'with': 22, 'club': 1, 'come': 37, 'it': 1, 'somebody': 2, 'handmade': 2, 'out': 1, 'new': 6, 'room': 3, 'chance': 1, 'follow': 6, 'in': 27, 'may': 2, 'brand': 6, 'that': 2, 'magnet': 3, 'up': 3, 'first': 1, 'and': 23, 'pull': 3, 'of': 6, 'table': 1, 'much': 2, 'last': 3, 'i': 6, 'thrifty': 1, 'grab': 2, 'was': 2, 'driver': 1, 'slow': 1, 'dance': 1, 'the': 18, 'say': 2, 'trust': 1, 'family': 1, 'week': 1, 'date': 1, 'me': 10, 'do': 3, 'waist': 2, 'smell': 3, 'day': 6, 'although': 3, 'your': 21, 'leave': 1, 'want': 2, \"let's\": 2, 'lead': 6, 'at': 1, 'hand': 1, 'how': 1, 'talk': 4, 'not': 2, 'eat': 1, 'falling': 3, 'about': 1, 'story': 1, 'sweet': 1, 'best': 1, 'crazy': 2, 'let': 1, 'too': 5, 'van': 1, 'shots': 1, 'go': 2, 'to': 2, 'a': 8, 'my': 33, 'is': 5, 'place': 1, 'find': 1, 'shape': 6, 'on': 40, 'kiss': 1, 'were': 3, 'night': 3, 'heart': 3, 'for': 3, 'discovering': 6, 'something': 6, 'be': 16, 'bedsheets': 3, 'fill': 2, 'hours': 2, 'stop': 1, 'bar': 1}"
      ]
    },
    {
      "cell_type": "markdown",
      "metadata": {
        "id": "OS2Cn2CJZnmm"
      },
      "source": [
        "#### Sort the keys of `word_freq` ascendingly.\n",
        "\n",
        "Please create a new dictionary called `word_freq2` based on `word_freq` with the keys sorted ascedingly.\n",
        "\n",
        "There are several ways to achieve that goal but many of the ways are beyond what we have covered so far in the course. There is one way that we'll describe employing what you have learned. Please feel free to use this way or any other way you want.\n",
        "\n",
        "1. First extract the keys of `word_freq` and convert it to a list called `keys`.\n",
        "\n",
        "1. Sort the `keys` list.\n",
        "\n",
        "1. Create an empty dictionary `word_freq2`.\n",
        "\n",
        "1. Use a FOR loop to iterate each value in `keys`. For each key iterated, find the corresponding value in `word_freq` and insert the key-value pair to `word_freq2`.\n",
        "\n",
        "📖 [Documentation for a for loop](https://docs.python.org/3/reference/compound_stmts.html#for)\n",
        "\n",
        "Print out `word_freq2` to examine its keys and values. Your output should be:\n",
        "\n",
        "```python\n",
        "{'a': 8, 'about': 1, 'all': 1, 'although': 3, 'and': 23, 'are': 1, 'at': 1, 'baby': 14, 'backseat': 1, 'bag': 1, 'bar': 1, 'be': 16, 'bedsheets': 3, 'begin': 1, 'best': 1, 'body': 17, 'boy': 2, 'brand': 6, 'can': 1, 'chance': 1, 'club': 1, 'come': 37, 'conversation': 1, 'crazy': 2, 'dance': 1, 'date': 1, 'day': 6, 'discovering': 6, 'do': 3, 'doing': 2, \"don't\": 2, 'drinking': 1, 'driver': 1, 'eat': 1, 'every': 6, 'falling': 3, 'family': 1, 'fast': 1, 'fill': 2, 'find': 1, 'first': 1, 'follow': 6, 'for': 3, 'friends': 1, 'get': 1, 'girl': 2, 'give': 1, 'go': 2, 'going': 1, 'grab': 2, 'hand': 1, 'handmade': 2, 'heart': 3, 'hours': 2, 'how': 1, 'i': 6, \"i'll\": 1, \"i'm\": 23, 'in': 27, 'is': 5, \"isn't\": 1, 'it': 1, 'jukebox': 1, 'just': 1, 'kiss': 1, 'know': 2, 'last': 3, 'lead': 6, 'leave': 1, 'let': 1, \"let's\": 2, 'like': 10, 'love': 25, 'lover': 1, 'magnet': 3, 'make': 1, 'man': 1, 'may': 2, 'me': 10, 'mind': 2, 'much': 2, 'my': 33, 'new': 6, 'night': 3, 'not': 2, 'now': 11, 'of': 6, 'okay': 1, 'on': 40, 'one': 1, 'our': 1, 'out': 1, 'over': 1, 'place': 1, 'plate': 1, 'play': 1, 'pull': 3, 'push': 3, 'put': 3, 'radio': 1, 'room': 3, 'say': 2, 'shape': 6, 'shots': 1, 'singing': 2, 'slow': 1, 'smell': 3, 'so': 2, 'somebody': 2, 'something': 6, 'sour': 1, 'start': 2, 'stop': 1, 'story': 1, 'sweet': 1, 'table': 1, 'take': 1, 'talk': 4, 'taxi': 1, 'tell': 1, 'that': 2, 'the': 18, 'then': 3, 'thrifty': 1, 'to': 2, 'too': 5, 'trust': 1, 'up': 3, 'van': 1, 'waist': 2, 'want': 2, 'was': 2, 'we': 7, \"we're\": 1, 'week': 1, 'were': 3, 'where': 1, 'with': 22, 'you': 16, 'your': 21}\n",
        "```"
      ]
    },
    {
      "cell_type": "code",
      "execution_count": 31,
      "metadata": {
        "id": "sZOoFpSMZnmm",
        "colab": {
          "base_uri": "https://localhost:8080/"
        },
        "outputId": "dfa52c02-b5a5-4f63-c46d-e5fffcd52fac"
      },
      "outputs": [
        {
          "output_type": "stream",
          "name": "stdout",
          "text": [
            "{'a': 8, 'about': 1, 'all': 1, 'although': 3, 'and': 23, 'are': 1, 'at': 1, 'baby': 14, 'backseat': 1, 'bag': 1, 'bar': 1, 'be': 16, 'bedsheets': 3, 'begin': 1, 'best': 1, 'body': 17, 'boy': 2, 'brand': 6, 'can': 1, 'chance': 1, 'club': 1, 'come': 37, 'conversation': 1, 'crazy': 2, 'dance': 1, 'date': 1, 'day': 6, 'discovering': 6, 'do': 3, 'doing': 2, \"don't\": 2, 'drinking': 1, 'driver': 1, 'eat': 1, 'every': 6, 'falling': 3, 'family': 1, 'fast': 1, 'fill': 2, 'find': 1, 'first': 1, 'follow': 6, 'for': 3, 'friends': 1, 'get': 1, 'girl': 2, 'give': 1, 'go': 2, 'going': 1, 'grab': 2, 'hand': 1, 'handmade': 2, 'heart': 3, 'hours': 2, 'how': 1, 'i': 6, \"i'll\": 1, \"i'm\": 23, 'in': 27, 'is': 5, \"isn't\": 1, 'it': 1, 'jukebox': 1, 'just': 1, 'kiss': 1, 'know': 2, 'last': 3, 'lead': 6, 'leave': 1, 'let': 1, \"let's\": 2, 'like': 10, 'love': 25, 'lover': 1, 'magnet': 3, 'make': 1, 'man': 1, 'may': 2, 'me': 10, 'mind': 2, 'much': 2, 'my': 33, 'new': 6, 'night': 3, 'not': 2, 'now': 11, 'of': 6, 'okay': 1, 'on': 40, 'one': 1, 'our': 1, 'out': 1, 'over': 1, 'place': 1, 'plate': 1, 'play': 1, 'pull': 3, 'push': 3, 'put': 3, 'radio': 1, 'room': 3, 'say': 2, 'shape': 6, 'shots': 1, 'singing': 2, 'slow': 1, 'smell': 3, 'so': 2, 'somebody': 2, 'something': 6, 'sour': 1, 'start': 2, 'stop': 1, 'story': 1, 'sweet': 1, 'table': 1, 'take': 1, 'talk': 4, 'taxi': 1, 'tell': 1, 'that': 2, 'the': 18, 'then': 3, 'thrifty': 1, 'to': 2, 'too': 5, 'trust': 1, 'up': 3, 'van': 1, 'waist': 2, 'want': 2, 'was': 2, 'we': 7, \"we're\": 1, 'week': 1, 'were': 3, 'where': 1, 'with': 22, 'you': 16, 'your': 21}\n"
          ]
        }
      ],
      "source": [
        "# Your code here\n",
        "\n",
        "# Diccionario original\n",
        "word_freq = {'love': 25, 'conversation': 1, 'every': 6, \"we're\": 1, 'plate': 1, 'sour': 1, 'jukebox': 1, 'now': 11, 'taxi': 1, 'fast': 1, 'bag': 1, 'man': 1, 'push': 3, 'baby': 14, 'going': 1, 'you': 16, \"don't\": 2, 'one': 1, 'mind': 2, 'backseat': 1, 'friends': 1, 'then': 3, 'know': 2, 'take': 1, 'play': 1, 'okay': 1, 'so': 2, 'begin': 1, 'start': 2, 'over': 1, 'body': 17, 'boy': 2, 'just': 1, 'we': 7, 'are': 1, 'girl': 2, 'tell': 1, 'singing': 2, 'drinking': 1, 'put': 3, 'our': 1, 'where': 1, \"i'll\": 1, 'all': 1, \"isn't\": 1, 'make': 1, 'lover': 1, 'get': 1, 'radio': 1, 'give': 1, \"i'm\": 23, 'like': 10, 'can': 1, 'doing': 2, 'with': 22, 'club': 1, 'come': 37, 'it': 1, 'somebody': 2, 'handmade': 2, 'out': 1, 'new': 6, 'room': 3, 'chance': 1, 'follow': 6, 'in': 27, 'may': 2, 'brand': 6, 'that': 2, 'magnet': 3, 'up': 3, 'first': 1, 'and': 23, 'pull': 3, 'of': 6, 'table': 1, 'much': 2, 'last': 3, 'i': 6, 'thrifty': 1, 'grab': 2, 'was': 2, 'driver': 1, 'slow': 1, 'dance': 1, 'the': 18, 'say': 2, 'trust': 1, 'family': 1, 'week': 1, 'date': 1, 'me': 10, 'do': 3, 'waist': 2, 'smell': 3, 'day': 6, 'although': 3, 'your': 21, 'leave': 1, 'want': 2, \"let's\": 2, 'lead': 6, 'at': 1, 'hand': 1, 'how': 1, 'talk': 4, 'not': 2, 'eat': 1, 'falling': 3, 'about': 1, 'story': 1, 'sweet': 1, 'best': 1, 'crazy': 2, 'let': 1, 'too': 5, 'van': 1, 'shots': 1, 'go': 2, 'to': 2, 'a': 8, 'my': 33, 'is': 5, 'place': 1, 'find': 1, 'shape': 6, 'on': 40, 'kiss': 1, 'were': 3, 'night': 3, 'heart': 3, 'for': 3, 'discovering': 6, 'something': 6, 'be': 16, 'bedsheets': 3, 'fill': 2, 'hours': 2, 'stop': 1, 'bar': 1}\n",
        "\n",
        "# 1. Extraer las claves y convertirlas a lista\n",
        "keys = list(word_freq.keys())\n",
        "\n",
        "# 2. Ordenar la lista de claves\n",
        "keys.sort()\n",
        "\n",
        "# 3. Crear un diccionario vacío\n",
        "word_freq2 = {}\n",
        "\n",
        "# 4. Usar un for loop para reconstruir el diccionario ordenado\n",
        "for k in keys:\n",
        "    word_freq2[k] = word_freq[k]\n",
        "\n",
        "# Resultado\n",
        "print(word_freq2)\n"
      ]
    },
    {
      "cell_type": "markdown",
      "metadata": {
        "id": "JFhrzoA1Znmm"
      },
      "source": [
        "#### Sort the values of `word_freq` ascendingly.\n",
        "\n",
        "Sorting the values of a dictionary is more tricky than sorting the keys because a dictionary's values are not unique. Therefore you cannot use the same way you sorted dict keys to sort dict values.\n",
        "\n",
        "The way to sort a dict by value is to utilize the `sorted` and `operator.itemgetter` functions. The following code snippet is provided to you to try. It will give you a list of tuples in which each tuple contains the key and value of a dict item. And the list is sorted based on the dict value ( [reference](http://thomas-cokelaer.info/blog/2017/12/how-to-sort-a-dictionary-by-values-in-python/)\n",
        ").\n",
        "\n",
        "```python\n",
        "import operator\n",
        "sorted_tups = sorted(word_freq.items(), key=operator.itemgetter(1))\n",
        "print(sorted_tups)\n",
        "```\n",
        "\n",
        "Therefore, the steps to sort `word_freq` by value are:\n",
        "\n",
        "* Using `sorted` and `operator.itemgetter`, obtain a list of tuples of the dict key-value pairs which is sorted on the value.\n",
        "\n",
        "* Create an empty dictionary named `word_freq2`.\n",
        "\n",
        "* Iterate the list of tuples. Insert each key-value pair into `word_freq2` as an object.\n",
        "\n",
        "Print `word_freq2` to confirm your dictionary has its values sorted. Your output should be:\n",
        "\n",
        "```python\n",
        "{'conversation': 1, \"we're\": 1, 'plate': 1, 'sour': 1, 'jukebox': 1, 'taxi': 1, 'fast': 1, 'bag': 1, 'man': 1, 'going': 1, 'one': 1, 'backseat': 1, 'friends': 1, 'take': 1, 'play': 1, 'okay': 1, 'begin': 1, 'over': 1, 'just': 1, 'are': 1, 'tell': 1, 'drinking': 1, 'our': 1, 'where': 1, \"i'll\": 1, 'all': 1, \"isn't\": 1, 'make': 1, 'lover': 1, 'get': 1, 'radio': 1, 'give': 1, 'can': 1, 'club': 1, 'it': 1, 'out': 1, 'chance': 1, 'first': 1, 'table': 1, 'thrifty': 1, 'driver': 1, 'slow': 1, 'dance': 1, 'trust': 1, 'family': 1, 'week': 1, 'date': 1, 'leave': 1, 'at': 1, 'hand': 1, 'how': 1, 'eat': 1, 'about': 1, 'story': 1, 'sweet': 1, 'best': 1, 'let': 1, 'van': 1, 'shots': 1, 'place': 1, 'find': 1, 'kiss': 1, 'stop': 1, 'bar': 1, \"don't\": 2, 'mind': 2, 'know': 2, 'so': 2, 'start': 2, 'boy': 2, 'girl': 2, 'singing': 2, 'doing': 2, 'somebody': 2, 'handmade': 2, 'may': 2, 'that': 2, 'much': 2, 'grab': 2, 'was': 2, 'say': 2, 'waist': 2, 'want': 2, \"let's\": 2, 'not': 2, 'crazy': 2, 'go': 2, 'to': 2, 'fill': 2, 'hours': 2, 'push': 3, 'then': 3, 'put': 3, 'room': 3, 'magnet': 3, 'up': 3, 'pull': 3, 'last': 3, 'do': 3, 'smell': 3, 'although': 3, 'falling': 3, 'were': 3, 'night': 3, 'heart': 3, 'for': 3, 'bedsheets': 3, 'talk': 4, 'too': 5, 'is': 5, 'every': 6, 'new': 6, 'follow': 6, 'brand': 6, 'of': 6, 'i': 6, 'day': 6, 'lead': 6, 'shape': 6, 'discovering': 6, 'something': 6, 'we': 7, 'a': 8, 'like': 10, 'me': 10, 'now': 11, 'baby': 14, 'you': 16, 'be': 16, 'body': 17, 'the': 18, 'your': 21, 'with': 22, \"i'm\": 23, 'and': 23, 'love': 25, 'in': 27, 'my': 33, 'come': 37, 'on': 40}\n",
        "```"
      ]
    },
    {
      "cell_type": "code",
      "execution_count": 32,
      "metadata": {
        "id": "KCSRGyhfZnmm",
        "colab": {
          "base_uri": "https://localhost:8080/"
        },
        "outputId": "5c25b3f6-c197-4061-b9f6-7d9d22442e8f"
      },
      "outputs": [
        {
          "output_type": "stream",
          "name": "stdout",
          "text": [
            "{'conversation': 1, \"we're\": 1, 'plate': 1, 'sour': 1, 'jukebox': 1, 'taxi': 1, 'fast': 1, 'bag': 1, 'man': 1, 'going': 1, 'one': 1, 'backseat': 1, 'friends': 1, 'take': 1, 'play': 1, 'okay': 1, 'begin': 1, 'over': 1, 'just': 1, 'are': 1, 'tell': 1, 'drinking': 1, 'our': 1, 'where': 1, \"i'll\": 1, 'all': 1, \"isn't\": 1, 'make': 1, 'lover': 1, 'get': 1, 'radio': 1, 'give': 1, 'can': 1, 'club': 1, 'it': 1, 'out': 1, 'chance': 1, 'first': 1, 'table': 1, 'thrifty': 1, 'driver': 1, 'slow': 1, 'dance': 1, 'trust': 1, 'family': 1, 'week': 1, 'date': 1, 'leave': 1, 'at': 1, 'hand': 1, 'how': 1, 'eat': 1, 'about': 1, 'story': 1, 'sweet': 1, 'best': 1, 'let': 1, 'van': 1, 'shots': 1, 'place': 1, 'find': 1, 'kiss': 1, 'stop': 1, 'bar': 1, \"don't\": 2, 'mind': 2, 'know': 2, 'so': 2, 'start': 2, 'boy': 2, 'girl': 2, 'singing': 2, 'doing': 2, 'somebody': 2, 'handmade': 2, 'may': 2, 'that': 2, 'much': 2, 'grab': 2, 'was': 2, 'say': 2, 'waist': 2, 'want': 2, \"let's\": 2, 'not': 2, 'crazy': 2, 'go': 2, 'to': 2, 'fill': 2, 'hours': 2, 'push': 3, 'then': 3, 'put': 3, 'room': 3, 'magnet': 3, 'up': 3, 'pull': 3, 'last': 3, 'do': 3, 'smell': 3, 'although': 3, 'falling': 3, 'were': 3, 'night': 3, 'heart': 3, 'for': 3, 'bedsheets': 3, 'talk': 4, 'too': 5, 'is': 5, 'every': 6, 'new': 6, 'follow': 6, 'brand': 6, 'of': 6, 'i': 6, 'day': 6, 'lead': 6, 'shape': 6, 'discovering': 6, 'something': 6, 'we': 7, 'a': 8, 'like': 10, 'me': 10, 'now': 11, 'baby': 14, 'you': 16, 'be': 16, 'body': 17, 'the': 18, 'your': 21, 'with': 22, \"i'm\": 23, 'and': 23, 'love': 25, 'in': 27, 'my': 33, 'come': 37, 'on': 40}\n"
          ]
        }
      ],
      "source": [
        "# Your code here\n",
        "\n",
        "import operator\n",
        "\n",
        "# 1. Usar sorted con operator.itemgetter para ordenar por el valor\n",
        "sorted_tups = sorted(word_freq.items(), key=operator.itemgetter(1))\n",
        "\n",
        "# 2. Crear un diccionario vacío\n",
        "word_freq2 = {}\n",
        "\n",
        "# 3. Recorrer la lista de tuplas e insertar los pares clave-valor\n",
        "for k, v in sorted_tups:\n",
        "    word_freq2[k] = v\n",
        "\n",
        "# 4. Imprimir el resultado\n",
        "print(word_freq2)\n"
      ]
    }
  ],
  "metadata": {
    "kernelspec": {
      "display_name": "Python 3",
      "name": "python3"
    },
    "language_info": {
      "codemirror_mode": {
        "name": "ipython",
        "version": 3
      },
      "file_extension": ".py",
      "mimetype": "text/x-python",
      "name": "python",
      "nbconvert_exporter": "python",
      "pygments_lexer": "ipython3",
      "version": "3.9.13"
    },
    "vscode": {
      "interpreter": {
        "hash": "aee8b7b246df8f9039afb4144a1f6fd8d2ca17a180786b69acc140d282b71a49"
      }
    },
    "colab": {
      "provenance": []
    }
  },
  "nbformat": 4,
  "nbformat_minor": 0
}